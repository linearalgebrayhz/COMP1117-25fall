{
 "cells": [
  {
   "cell_type": "markdown",
   "id": "cb8616ab",
   "metadata": {},
   "source": [
    "# COMP1117: Computer programming - Tutorial 4\n",
    "\n",
    "2025-10-10\n",
    "\n",
    "Welcome to the tutorial session for COMP1117 1B!\n",
    "\n",
    "---\n",
    "\n",
    "**STA Info**\n",
    "\n",
    "Yang Haozhe (Thomas): Fourth-year Computer Science Student (BEng(CompSc))\n",
    "\n",
    "Contacts: \n",
    "\n",
    "- Email: yhz2004@connect.hku.hk\n",
    "- WeChat: Thomas316316316316\n",
    "- WhatsApp: +852 56039533\n",
    "\n",
    "Moodle tutorial groups have been created for this tutorial session. Stay tuned for important announcements from Moodle!"
   ]
  },
  {
   "cell_type": "markdown",
   "id": "f50b39d8",
   "metadata": {},
   "source": [
    "## Announcements\n",
    "\n",
    "- Tutorial Exercise 4 released and is due next Friday night\n",
    "- Assignment 2 due 23:59 Oct 19, 2025\n",
    "- In class Quiz Oct 31"
   ]
  },
  {
   "cell_type": "markdown",
   "id": "f5f927ff",
   "metadata": {},
   "source": [
    "## 1. Lecture Recap\n",
    "\n",
    "### 1.1 Other two Collection type `set` and `tuple`\n",
    "\n",
    "We've finally get to the last part of introducing the remaining two collections. These two data type are relatively less used in Python Projects.\n",
    "\n",
    "#### Sets\n",
    "\n",
    "Sets are a built-in data type in Python used to store collections of unique items. They're great for tasks involving uniqueness and mathematical operations.\n",
    "\n",
    "##### Basic Properties\n",
    "- **Unordered**: Unlike lists, sets do not maintain any order. You can't access elements by index (e.g., no `my_set[0]`).\n",
    "- **Unique Elements**: Sets **automatically** remove duplicates. If you add the same item twice, it only appears once.\n",
    "- **Mutable**: You can add or remove elements after creation (similar to lists and dictionaries, but unlike tuples).\n",
    "- **Hashable Elements Only**: Elements in a set must be immutable (e.g., numbers, strings, tuples). You can't add lists or dictionaries to a set because they're mutable.\n",
    "- **Syntax**: Created using curly braces `{}` or the `set()` function. Empty sets must use `set()` ( `{}` creates an empty dictionary)."
   ]
  },
  {
   "cell_type": "code",
   "execution_count": null,
   "id": "b4abc724",
   "metadata": {},
   "outputs": [],
   "source": [
    "fruits = {\"apple\", \"banana\", \"cherry\"}\n",
    "# print(fruits[0]) # `__getitem__` method not implemented for set\n",
    "empty_set = set()  # Not {}\n",
    "empty_dict_or_set = {}\n",
    "print(f\"type of empty set: {type(empty_set)}\")\n",
    "print(f\"type of empty_dict_or_set: {type(empty_dict_or_set)}\")"
   ]
  },
  {
   "cell_type": "markdown",
   "id": "1f4afc96",
   "metadata": {},
   "source": [
    "##### Common Usages\n",
    "- **Removing Duplicates**: Convert a list to a set to eliminate repeats (e.g., from user input or data cleaning).\n",
    "- **Membership Testing**: Quickly check if an item exists using `in` (faster than lists for large collections).\n",
    "- **Set Operations**: Perform math-like operations such as union (combine), intersection (common items), and difference (unique to one set).\n",
    "- **Comparison to Lists/Dicts**: Use sets when order doesn't matter and uniqueness is key (vs. lists for ordered duplicates, or dicts for key-value pairs)."
   ]
  },
  {
   "cell_type": "code",
   "execution_count": null,
   "id": "ce150544",
   "metadata": {},
   "outputs": [],
   "source": [
    "# Removing duplicates from a list\n",
    "numbers = [1, 2, 2, 3, 4, 4]\n",
    "unique_numbers = set(numbers)  # {1, 2, 3, 4}\n",
    "\n",
    "# Membership check\n",
    "if 3 in unique_numbers:\n",
    "    print(\"3 is present!\")  # This runs"
   ]
  },
  {
   "cell_type": "markdown",
   "id": "e560c650",
   "metadata": {},
   "source": [
    "##### Common Methods\n",
    "Here are some frequently used methods. Most modify the set in place or return a new set.\n",
    "\n",
    "- `add(element)`: Adds a single element (ignores if already present).\n",
    "- `remove(element)`: Removes an element; raises KeyError if not found. (You may infer from KeyError that `set` is actually implemented as a hashtable)\n",
    "- `pop()`: Removes and returns a random element (since unordered).\n",
    "- `clear()`: Empties the set.\n",
    "\n",
    "Bonus: For anyone interested in mathematics, here are some other mathematical operations (This is usually not tested, please refer to lecture notes or consult instructors for examination scope):\n",
    "\n",
    "- `union(other_set)` or `|`: Returns a new set with elements from both.\n",
    "$$x \\in A \\cup B \\iff x \\in A \\space \\text{or} \\space x \\in B$$\n",
    "\n",
    "- `intersection(other_set)` or `&`: Returns common elements.\n",
    "$$x \\in A \\cap B \\iff x \\in A \\space \\text{and} \\space x \\in B$$\n",
    "\n",
    "- `difference(other_set)` or `-`: Returns elements in the first but not the second.\n",
    "$$x \\in A \\backslash B \\iff x \\in A \\space \\text{and} \\space x \\notin B$$\n",
    "- `symmetric_difference(other_set)` or `^`: Returns elements in either but not both.\n",
    "\n",
    "$$x \\in A \\bigtriangleup B \\iff (x \\in A \\space \\text{and} \\space x \\notin B) \\space \\text{or} \\space (x \\notin A \\space \\text{and} \\space x \\in B)$$\n"
   ]
  },
  {
   "cell_type": "code",
   "execution_count": null,
   "id": "583cd771",
   "metadata": {},
   "outputs": [],
   "source": [
    "set1 = {1, 2, 3}\n",
    "set2 = {3, 4, 5}\n",
    "\n",
    "set1.add(6)  # {1, 2, 3, 6}\n",
    "set1.remove(2)  # {1, 3, 6}\n",
    "\n",
    "union_set = set1.union(set2)  # {1, 3, 4, 5, 6}\n",
    "intersection = set1 & set2  # {3}"
   ]
  },
  {
   "cell_type": "markdown",
   "id": "0873b297",
   "metadata": {},
   "source": [
    "##### Common Mistakes\n",
    "- **Indexing/Slicing**: Trying `my_set[0]` – remember, sets are unordered! Convert to a list first if needed: `list(my_set)[0]`.\n",
    "- **Adding Mutable Items**: You can't add lists or dicts: `my_set.add([1, 2])` raises TypeError. Use tuples instead if needed.\n",
    "- **Forgetting Duplicates Are Removed**: Adding duplicates silently ignores them – great for uniqueness, but can surprise beginners.\n",
    "- **Modifying During Iteration**: Don't add/remove elements while looping over a set; it can cause runtime errors (similar to dicts).\n",
    "- **Confusing with Dicts**: Both use `{}` , but sets have no keys/values. Always specify elements or use `set()` for empties.\n",
    "\n",
    "Tip: If you need ordered unique items, use a list and `set()` to deduplicate, then sort if necessary.\n",
    "\n",
    "#### Tuples\n",
    "\n",
    "Tuples are similar to lists but with key differences, making them useful for fixed data.\n",
    "\n",
    "##### Basic Properties\n",
    "- **Ordered**: Like lists, tuples maintain the order of elements. You can access by index (e.g., `my_tuple[0]`).\n",
    "- **Immutable**: Once created, you can't change, add, or remove elements (unlike lists or sets).\n",
    "- **Allows Duplicates**: Elements can repeat, just like lists.\n",
    "- **Heterogeneous**: Can hold mixed data types (e.g., int, str, list).\n",
    "- **Syntax**: Created using parentheses `()` or the `tuple()` function. Single-element tuples need a comma: `(1,)`."
   ]
  },
  {
   "cell_type": "code",
   "execution_count": null,
   "id": "4bb94006",
   "metadata": {},
   "outputs": [],
   "source": [
    "# Creating a tuple\n",
    "coordinates = (10, 20, 30)\n",
    "single_tuple = (5,)  # Not (5), that would be just an int"
   ]
  },
  {
   "cell_type": "markdown",
   "id": "d239e32c",
   "metadata": {},
   "source": [
    "##### Common Usages\n",
    "- **Immutable Data**: Use for constants, like coordinates or RGB colors, where accidental changes should be prevented.\n",
    "- **Function Returns**: Often used to return multiple values from a function (e.g., `divmod()` returns a tuple).\n",
    "- **Unpacking**: Easily assign tuple elements to variables (e.g., `x, y = (1, 2)`).\n",
    "- **Dictionary Keys**: Since immutable, tuples can be keys in dicts (lists can't).\n",
    "- **Comparison to Lists/Dicts**: Use tuples for read-only ordered data (vs. lists for mutable ordered data, or sets for unique unordered)."
   ]
  },
  {
   "cell_type": "code",
   "execution_count": null,
   "id": "c2becc4e",
   "metadata": {},
   "outputs": [],
   "source": [
    "# Unpacking\n",
    "person = (\"Alice\", 25, \"Engineer\")\n",
    "name, age, job = person  # name='Alice', age=25, job='Engineer'\n",
    "\n",
    "# As dict key\n",
    "locations = {(1, 2): \"Point A\", (3, 4): \"Point B\"}"
   ]
  },
  {
   "cell_type": "markdown",
   "id": "eddc93e1",
   "metadata": {},
   "source": [
    "##### Common Methods\n",
    "Tuples have limited methods due to immutability (no add/remove like lists or sets).\n",
    "\n",
    "- `count(element)`: Returns how many times an element appears.\n",
    "- `index(element)`: Returns the first index of an element; raises ValueError if not found.\n",
    "\n",
    "Example:\n",
    "```python\n",
    "colors = (\"red\", \"blue\", \"red\", \"green\")\n",
    "print(colors.count(\"red\"))  # 2\n",
    "print(colors.index(\"blue\"))  # 1\n",
    "```\n",
    "\n",
    "##### Common Mistakes\n",
    "- **Modifying Tuples**: Trying `my_tuple[0] = 10` raises TypeError. If you need changes, use a list instead.\n",
    "- **Forgetting the Comma in Singletons**: `(5)` is just 5, not a tuple – use `(5,)`.\n",
    "- **Confusing Parentheses**: Parentheses are optional in some contexts (e.g., function args), but required for empty or single tuples. (This is not correct in Python 3, I will remove this later)\n",
    "- **Overusing for Lists**: Beginners sometimes use tuples like lists – remember, if you might need to modify, stick with lists.\n",
    "\n",
    "#### Practice Exercises\n",
    "1. Create a set from a list with duplicates and print its length.\n",
    "2. Perform a union and intersection on two sets.\n",
    "3. Try unpacking a tuple into variables."
   ]
  },
  {
   "cell_type": "code",
   "execution_count": null,
   "id": "b860b527",
   "metadata": {},
   "outputs": [],
   "source": [
    "tp = tuple()\n",
    "tp1 = ()\n",
    "\n",
    "def input_tuples(a, (b, c), d):\n",
    "    pass \n",
    "\n",
    "input_tuples(1,2,3,4)"
   ]
  },
  {
   "cell_type": "markdown",
   "id": "d6559002",
   "metadata": {},
   "source": [
    "\n",
    "### 2. Python functions\n",
    "\n",
    "Why functions? Divide problems into smaller sub-tasks and conquer. What's more, we can call the defined function many times if a subtask is recurrent. We can even use predefined fuctions from other projects (Thinking about python Math package with a bunch of functions available).\n",
    "\n",
    "In software engineering developments, we are constantly using the idea of solving subtasks. Very often we will use a function implemented by other software engineers without worrying about the detailed logics inside, just need to know what are the input arguments and outputs.\n",
    "\n",
    "Keywords you may hear many times throughout your CS journey.\n",
    "\n",
    "- Modular Design\n",
    "- Encapsulation\n",
    "- \"Do not rebuild wheels\" 不要重复造轮子\n",
    "\n",
    "Take a look at the following function example and read the comment."
   ]
  },
  {
   "cell_type": "code",
   "execution_count": null,
   "id": "24c86de8",
   "metadata": {},
   "outputs": [],
   "source": [
    "\n",
    "buget = 100\n",
    "\n",
    "def calculate_total_cost(item_prices:list, discount_rate:float=0.1) -> float:\n",
    "\n",
    "    # Define a function with `def`, function name, argument list (Can be Empty), and proper indentation for function blocks\n",
    "    # (Optional) type hint\n",
    "    # Argument names are defined here as local variables within the function, we can have default value but they must be placed at the end\n",
    "\n",
    "    \"\"\"\n",
    "    Calculate the total cost of items after applying a discount.\n",
    "    \n",
    "    Parameters:\n",
    "        item_prices (list): List of item prices (positional argument).\n",
    "        discount_rate (float): Discount rate as a decimal (default is 0.1, i.e., 10%).\n",
    "    \n",
    "    Returns:\n",
    "        float: Total cost after discount.\n",
    "    \"\"\"\n",
    "    \n",
    "    subtotal = 0\n",
    "    for price in item_prices:\n",
    "        subtotal += price\n",
    "    \n",
    "    discount = subtotal * discount_rate\n",
    "    total_cost = subtotal - discount\n",
    "    \n",
    "    if total_cost > buget: # We can access variables defined in the environment (or Frame) where the function is defined\n",
    "        print(\"Exceed buget\")\n",
    "    \n",
    "    return total_cost\n",
    "\n",
    "    print(\"This will not be printed\") # return keyword ends function call immediately."
   ]
  },
  {
   "cell_type": "markdown",
   "id": "32094047",
   "metadata": {},
   "source": [
    "\n",
    "### 3. Loops in Python (con't)\n",
    "\n",
    "I prepared some exercises for you! Have a try!\n",
    "\n",
    "#### Print Pattern\n",
    "\n",
    "Write a Python Program using loops to print the following pattern for a given number of rows `n`. For example, if `n=5`, the output should be:\n",
    "\n",
    "```\n",
    "0\n",
    "10\n",
    "010\n",
    "1010\n",
    "01010\n",
    "```"
   ]
  },
  {
   "cell_type": "code",
   "execution_count": null,
   "id": "2ce100fa",
   "metadata": {},
   "outputs": [],
   "source": []
  },
  {
   "cell_type": "markdown",
   "id": "69e55e61",
   "metadata": {},
   "source": [
    "#### Merge Two Lists\n",
    "Write a Python Program using loops to merge two **sorted** list into one **sorted** list.\n",
    "\n",
    "For example, given `[1,2,5,7]` and `[3, 6, 9, 10, 15]`. The merged list should be `[1, 2, 3, 5, 6, 7, 9, 10, 15]`.\n",
    "\n",
    "Input format: space separated numbers in two lines\n",
    "```\n",
    "1 2 5 7\n",
    "3 6 9 10 15\n",
    "```\n",
    "\n",
    "output -> list:\n",
    "```\n",
    ">>> [1, 2, 3, 5, 6, 7, 9, 10, 15]\n",
    "```\n",
    "\n",
    "Hint: you may process user input using `split()`. Search online document or consult AI how to use it if you are not familiar with this."
   ]
  },
  {
   "cell_type": "markdown",
   "id": "c84159b2",
   "metadata": {},
   "source": [
    "## 2. Tutorial Slides"
   ]
  },
  {
   "cell_type": "markdown",
   "id": "5e43b934",
   "metadata": {},
   "source": [
    "Please go through the tutorial slides by yourself!"
   ]
  },
  {
   "cell_type": "markdown",
   "id": "dfa5afa4",
   "metadata": {},
   "source": [
    "## 3. Tutorial Exercises\n",
    "\n",
    "Please go through the tutorial exercises by yourself!\n",
    "\n",
    "If you encounter any problem, feel free to ask in the tutorial forum.\n"
   ]
  },
  {
   "cell_type": "markdown",
   "id": "058bbae8",
   "metadata": {},
   "source": [
    "## Bonus Section 1: More about python functions\n",
    "\n",
    "This bonus section builds on your understanding of Python functions, function arguments, and variables, introducing two advanced but beginner-friendly concepts: functions assigned to variables and higher-order functions. These ideas will help you write more flexible and powerful code. \n",
    "\n",
    "### Functions Assigned to Variables\n",
    "In Python, functions are **first-class** objects, meaning you can treat them like any other data type (e.g., integers, strings, lists). You can assign a function to a variable, pass it as an argument, or store it in a list or dictionary. This allows you to reference and call functions dynamically."
   ]
  },
  {
   "cell_type": "code",
   "execution_count": null,
   "id": "dbb395f8",
   "metadata": {},
   "outputs": [],
   "source": [
    "# Define a simple function\n",
    "def greet(name):\n",
    "    return f\"Hello, {name}!\"\n",
    "\n",
    "# Assign function to a variable\n",
    "say_hello = greet  # No parentheses, just the function object\n",
    "\n",
    "# Call the function using the variable\n",
    "print(say_hello(\"Alice\"))  # Output: Hello, Alice!\n",
    "print(greet(\"Bob\"))       # Output: Hello, Bob! (original function still works)\n",
    "\n",
    "\n",
    "# Store functions in a list (like storing numbers or strings)\n",
    "actions = [greet, len, print]\n",
    "print(actions[0](\"Charlie\"))  # Output: Hello, Charlie!"
   ]
  },
  {
   "cell_type": "markdown",
   "id": "feeab7da",
   "metadata": {},
   "source": [
    "Common Mistake\n",
    "\n",
    "Adding Parentheses During Assignment: Writing say_hello = greet() calls the function and assigns its result (e.g., a string), not the function itself."
   ]
  },
  {
   "cell_type": "code",
   "execution_count": null,
   "id": "bf03b495",
   "metadata": {},
   "outputs": [],
   "source": [
    "say_hello = greet(\"Alice\")  # Wrong: assigns \"Hello, Alice!\" (a string)\n",
    "print(say_hello(\"Bob\"))   # Error: string is not callables"
   ]
  },
  {
   "cell_type": "markdown",
   "id": "5df18394",
   "metadata": {},
   "source": [
    "**Why It’s Useful?**\n",
    "\n",
    "Assigning functions to variables lets you create flexible code, like choosing different operations dynamically (similar to selecting a dictionary value by key).\n",
    "\n",
    "---\n",
    "\n",
    "### Higher-Order Functions\n",
    "\n",
    "A higher-order function is a function that either:\n",
    "\n",
    "Takes one or more functions as arguments, or Returns a function as its result.\n",
    "\n",
    "This is powerful for creating reusable, modular code, similar to how lists or dictionaries organize data.\n",
    "\n",
    "Key Points:\n",
    "\n",
    "- Function as Argument: Pass a function (without calling it) to another function to customize its behavior.\n",
    "\n",
    "- Function as Return Value: A function can return another function, allowing dynamic behavior.\n",
    "\n",
    "- Examples in Python: Built-in functions like map(), filter(), and sorted() are higher-order because they take functions as arguments.\n",
    "\n",
    "- Comparison: Think of this like passing a list to a function to process its elements, but instead, you’re passing a function to process data.\n",
    "\n",
    "*Example: Function as Argument*"
   ]
  },
  {
   "cell_type": "code",
   "execution_count": null,
   "id": "8416c462",
   "metadata": {},
   "outputs": [],
   "source": [
    "# Define a function to apply to each element\n",
    "def square(num):\n",
    "    return num * num\n",
    "\n",
    "# Higher-order function that applies a given function to a list\n",
    "def apply_to_list(numbers, func):\n",
    "    result = []\n",
    "    for num in numbers:\n",
    "        result.append(func(num))  # Call the passed function\n",
    "    return result\n",
    "\n",
    "# Use the higher-order function\n",
    "numbers = [1, 2, 3, 4]\n",
    "squared_numbers = apply_to_list(numbers, square)\n",
    "print(squared_numbers)  # Output: [1, 4, 9, 16]\n",
    "\n",
    "# Use with a different function\n",
    "def double(num):\n",
    "    return num * 2\n",
    "doubled_numbers = apply_to_list(numbers, double)\n",
    "print(doubled_numbers)  # Output: [2, 4, 6, 8]"
   ]
  },
  {
   "cell_type": "markdown",
   "id": "c41a2a16",
   "metadata": {},
   "source": [
    "\n",
    "**Why It’s Useful?**\n",
    "\n",
    "Higher-order functions let you write flexible code, like creating custom operations or applying different rules to data (similar to using loops with lists or conditionals with dictionaries). For example, map(square, numbers) is a built-in higher-order function that applies square to each element.\n"
   ]
  },
  {
   "cell_type": "markdown",
   "id": "b79f8d28",
   "metadata": {},
   "source": [
    "## Bonus Section 2: An introduction to Object Oriented Programming (OOP)\n",
    "\n",
    "*I have removed this section and it will be covered after the reading week!*"
   ]
  }
 ],
 "metadata": {
  "kernelspec": {
   "display_name": "Python 3",
   "language": "python",
   "name": "python3"
  },
  "language_info": {
   "codemirror_mode": {
    "name": "ipython",
    "version": 3
   },
   "file_extension": ".py",
   "mimetype": "text/x-python",
   "name": "python",
   "nbconvert_exporter": "python",
   "pygments_lexer": "ipython3",
   "version": "3.10.11"
  }
 },
 "nbformat": 4,
 "nbformat_minor": 5
}
