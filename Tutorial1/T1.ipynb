{
 "cells": [
  {
   "cell_type": "markdown",
   "id": "79263bb0",
   "metadata": {},
   "source": [
    "# COMP1117: Computer programming - Tutorial 1"
   ]
  },
  {
   "cell_type": "markdown",
   "id": "4482862f",
   "metadata": {},
   "source": [
    "Welcome to the first tutorial session for COMP1117 1B!\n",
    "\n",
    "---\n",
    "\n",
    "## About us (STAs)\n",
    "\n",
    "- Yang Haozhe (Thomas): Fourth-year Computer Science Student (BEng(CompSc)). Here is [my personal page](https://linearalgebrayhz.github.io/).\n",
    "    - Contact: yhz2004@connect.hku.hk\n",
    "- \n",
    "\n",
    "## About You\n",
    "\n",
    "### Which Faculty do you come from?\n",
    "\n",
    "[Link for the questions](https://www.menti.com/alvhs9wtwuh7)\n",
    "\n",
    "*It can cause confusion for students in school of Computing and Data Science to determine their faculty. For CDS, SDS, BSc(Ac) and BASc(Fintech), BAsc(AppliedAI) students you can choose School of Computing and Data Science*\n",
    "\n",
    "### What is your current year of study?\n",
    "\n",
    "---\n",
    "\n",
    "## 1. Tutorial Arrangements\n",
    "The first tutorial session will be conducted online. \n",
    "\n",
    "Starting from the third week (9.22-9.28), we will have face to face tutorial sessions:\n",
    "\n",
    "- **Tuesday 11:00 - 12:50**\n",
    "- Venue: **HW311** located in Wong Haking building 3F\n",
    "\n",
    "*Should you find it hard to locate the classroom, please do not hesitate to contact us for assistance*\n",
    "\n",
    "---\n",
    "\n",
    "In each tutorial, we will\n",
    "- Recap the material covered during lecture (very quick recap on difficult/important concepts, possibly with some extended learning).\n",
    "- Go through tutorial slides provided by the teaching team and tutorial exercises\n",
    "- (optionally) teach bonus knowledge on Python, Programming and Computer Science if time permits\n",
    "- Have Q&A time\n",
    "\n",
    "\n",
    "---\n",
    "(**Important**)\n",
    "The tutorial exercises submission deadline will be next Friday 23:59 of the tutorial class, for example:\n",
    "- Sep 15 - 19 T1 tutorial class\n",
    "- Sep 26 (Friday) 23:59 T1 exercises due\n",
    "- Late work is NOT accepted\n",
    "- Tutorial worksheet submission counts towards your course assessment\n"
   ]
  },
  {
   "cell_type": "markdown",
   "id": "6c27a612",
   "metadata": {},
   "source": [
    "## 2. Life is Short, I Use Python 🐍\n",
    "\n",
    "As a Year 4 CS student, I’ve seen Python being used **everywhere** — from research to industry, and across many disciplines.  \n",
    "It’s not just an “introductory language” — it’s a **gateway language**: easy to learn, but powerful because of its massive ecosystem of specialized packages. It’s a tool you’ll carry with you along the academic and career path.\n",
    "\n",
    "\n",
    "### Quick Comparison Between Python, C++ and Java\n",
    "\n",
    "In Python, we say:\n",
    "```python\n",
    "print(\"Hello World!\")\n",
    "````\n",
    "\n",
    "---\n",
    "\n",
    "In C++, we say:\n",
    "\n",
    "```cpp\n",
    "#include<iostream>\n",
    "\n",
    "int main(int argc, char *argv[]){\n",
    "    std::cout << \"Hello World\" << std::endl;\n",
    "}\n",
    "```\n",
    "\n",
    "---\n",
    "\n",
    "In Java, we say:\n",
    "\n",
    "```java\n",
    "public class HelloWorld {\n",
    "    public static void main(String[] args) {\n",
    "        System.out.println(\"Hello World\");\n",
    "    }\n",
    "}\n",
    "```\n",
    "\n",
    "👉 Notice how **Python is concise and beginner-friendly**, but still powerful enough for serious applications.\n",
    "\n",
    "---\n",
    "\n",
    "### Widely-used Python (Across Disciplines)\n",
    "\n",
    "- Computer Science / AI / Data Science → `numpy`, `pandas`, `scikit-learn`, `tensorflow`, `pytorch`\n",
    "\n",
    "- Finance & Economics → `pandas` (time-series), `statsmodels` (econometrics), `quantlib`\n",
    "\n",
    "- Bioinformatics → `biopython`, `scipy`, `pytorch` (for genomics/AI in biology)\n",
    "\n",
    "- Mathematics & Statistics → `numpy`, `scipy`, `sympy`, `statsmodels`\n",
    "\n",
    "- Computational Social Science → `networkx` (graph analysis), `nltk`/`spacy` (text analysis), `pandas`\n",
    "\n",
    "**Key Message: You won’t be tested on these packages in this course.**\n",
    "\n",
    "But the fundamentals you learn in COMP1117 (variables, loops, functions, data structures) will give you the foundation to pick up any of these later.\n"
   ]
  },
  {
   "cell_type": "markdown",
   "id": "f7dda5c1",
   "metadata": {},
   "source": [
    "**To run the following examples, run next two cells first to install necessary packages.** It will take sometime to run."
   ]
  },
  {
   "cell_type": "code",
   "execution_count": 1,
   "id": "bdf20820",
   "metadata": {},
   "outputs": [
    {
     "name": "stdout",
     "output_type": "stream",
     "text": [
      "Requirement already satisfied: numpy in c:\\users\\administrator\\appdata\\local\\programs\\python\\python310\\lib\\site-packages (2.2.6)\n",
      "Requirement already satisfied: matplotlib in c:\\users\\administrator\\appdata\\local\\programs\\python\\python310\\lib\\site-packages (3.10.6)\n",
      "Requirement already satisfied: scipy in c:\\users\\administrator\\appdata\\local\\programs\\python\\python310\\lib\\site-packages (1.15.3)\n",
      "Requirement already satisfied: taichi in c:\\users\\administrator\\appdata\\local\\programs\\python\\python310\\lib\\site-packages (1.7.4)\n",
      "Requirement already satisfied: contourpy>=1.0.1 in c:\\users\\administrator\\appdata\\local\\programs\\python\\python310\\lib\\site-packages (from matplotlib) (1.3.2)\n",
      "Requirement already satisfied: packaging>=20.0 in c:\\users\\administrator\\appdata\\roaming\\python\\python310\\site-packages (from matplotlib) (25.0)\n",
      "Requirement already satisfied: kiwisolver>=1.3.1 in c:\\users\\administrator\\appdata\\local\\programs\\python\\python310\\lib\\site-packages (from matplotlib) (1.4.9)\n",
      "Requirement already satisfied: python-dateutil>=2.7 in c:\\users\\administrator\\appdata\\roaming\\python\\python310\\site-packages (from matplotlib) (2.9.0.post0)\n",
      "Requirement already satisfied: cycler>=0.10 in c:\\users\\administrator\\appdata\\local\\programs\\python\\python310\\lib\\site-packages (from matplotlib) (0.12.1)\n",
      "Requirement already satisfied: fonttools>=4.22.0 in c:\\users\\administrator\\appdata\\local\\programs\\python\\python310\\lib\\site-packages (from matplotlib) (4.59.2)\n",
      "Requirement already satisfied: pillow>=8 in c:\\users\\administrator\\appdata\\local\\programs\\python\\python310\\lib\\site-packages (from matplotlib) (11.3.0)\n",
      "Requirement already satisfied: pyparsing>=2.3.1 in c:\\users\\administrator\\appdata\\local\\programs\\python\\python310\\lib\\site-packages (from matplotlib) (3.2.4)\n",
      "Requirement already satisfied: dill in c:\\users\\administrator\\appdata\\local\\programs\\python\\python310\\lib\\site-packages (from taichi) (0.4.0)\n",
      "Requirement already satisfied: rich in c:\\users\\administrator\\appdata\\local\\programs\\python\\python310\\lib\\site-packages (from taichi) (14.1.0)\n",
      "Requirement already satisfied: colorama in c:\\users\\administrator\\appdata\\roaming\\python\\python310\\site-packages (from taichi) (0.4.6)\n",
      "Requirement already satisfied: six>=1.5 in c:\\users\\administrator\\appdata\\roaming\\python\\python310\\site-packages (from python-dateutil>=2.7->matplotlib) (1.17.0)\n",
      "Requirement already satisfied: markdown-it-py>=2.2.0 in c:\\users\\administrator\\appdata\\local\\programs\\python\\python310\\lib\\site-packages (from rich->taichi) (4.0.0)\n",
      "Requirement already satisfied: pygments<3.0.0,>=2.13.0 in c:\\users\\administrator\\appdata\\roaming\\python\\python310\\site-packages (from rich->taichi) (2.19.2)\n",
      "Requirement already satisfied: mdurl~=0.1 in c:\\users\\administrator\\appdata\\local\\programs\\python\\python310\\lib\\site-packages (from markdown-it-py>=2.2.0->rich->taichi) (0.1.2)\n"
     ]
    },
    {
     "name": "stderr",
     "output_type": "stream",
     "text": [
      "\n",
      "[notice] A new release of pip is available: 23.0.1 -> 25.2\n",
      "[notice] To update, run: python.exe -m pip install --upgrade pip\n"
     ]
    }
   ],
   "source": [
    "!pip install numpy matplotlib scipy taichi"
   ]
  },
  {
   "cell_type": "code",
   "execution_count": 2,
   "id": "c8c8b656",
   "metadata": {},
   "outputs": [
    {
     "name": "stdout",
     "output_type": "stream",
     "text": [
      "[Taichi] version 1.7.4, llvm 15.0.1, commit b4b956fd, win, python 3.10.11\n"
     ]
    }
   ],
   "source": [
    "import numpy as np\n",
    "import matplotlib.pyplot as plt\n",
    "import taichi as ti"
   ]
  },
  {
   "cell_type": "markdown",
   "id": "b01040ad",
   "metadata": {},
   "source": [
    "### Example 1: Plotting in Python"
   ]
  },
  {
   "cell_type": "code",
   "execution_count": 3,
   "id": "65040ed3",
   "metadata": {},
   "outputs": [
    {
     "data": {
      "image/png": "[encoded data removed]",
      "text/plain": [
       "<Figure size 640x480 with 1 Axes>"
      ]
     },
     "metadata": {},
     "output_type": "display_data"
    }
   ],
   "source": [
    "x = np.linspace(0, 2*np.pi, 100)\n",
    "y = np.sin(x)\n",
    "\n",
    "plt.plot(x, y, label=\"sin(x)\")\n",
    "plt.legend()\n",
    "plt.show()"
   ]
  },
  {
   "cell_type": "markdown",
   "id": "9d043c38",
   "metadata": {},
   "source": [
    "\n",
    "🔍 In just a few lines, you can make clean plots for math/physics/AI assignments.\n",
    "\n",
    "---\n",
    "\n",
    "### Example 2: Scientific Computing"
   ]
  },
  {
   "cell_type": "code",
   "execution_count": 4,
   "id": "6982bda9",
   "metadata": {},
   "outputs": [
    {
     "name": "stdout",
     "output_type": "stream",
     "text": [
      "Solution vector x:\n",
      "[ 1.31351351  2.10810811 -0.28108108  0.69189189]\n"
     ]
    }
   ],
   "source": [
    "# Define the coefficient matrix A\n",
    "A = np.array([[2, 3, -1, 4],\n",
    "              [1, -2, 5, -1],\n",
    "              [4, 1, -2, 3],\n",
    "              [-1, 5, 3, -2]])\n",
    "\n",
    "# Define the constant vector b\n",
    "b = np.array([12, -5, 10, 7])\n",
    "\n",
    "# Solve the system of linear equations\n",
    "x = np.linalg.solve(A, b)\n",
    "\n",
    "# Print the solution\n",
    "print(\"Solution vector x:\")\n",
    "print(x)"
   ]
  },
  {
   "cell_type": "markdown",
   "id": "0987fd6e",
   "metadata": {},
   "source": [
    "\n",
    "Some python packages lets you solve **linear algebra problems** without writing complicated algorithms and provide high robustness.\n",
    "\n",
    "---\n",
    "\n",
    "### Example 3: Particle Simulation (with Taichi)\n"
   ]
  },
  {
   "cell_type": "code",
   "execution_count": null,
   "id": "f4220d0b",
   "metadata": {},
   "outputs": [
    {
     "name": "stdout",
     "output_type": "stream",
     "text": [
      "[Taichi] Starting on arch=cuda\n"
     ]
    },
    {
     "ename": "",
     "evalue": "",
     "output_type": "error",
     "traceback": [
      "\u001b[1;31mThe Kernel crashed while executing code in the current cell or a previous cell. \n",
      "\u001b[1;31mPlease review the code in the cell(s) to identify a possible cause of the failure. \n",
      "\u001b[1;31mClick <a href='https://aka.ms/vscodeJupyterKernelCrash'>here</a> for more info. \n",
      "\u001b[1;31mView Jupyter <a href='command:jupyter.viewOutput'>log</a> for further details."
     ]
    }
   ],
   "source": [
    "import taichi as ti\n",
    "ti.init(arch=ti.gpu)  # Alternatively, ti.init(arch=ti.cpu)\n",
    "\n",
    "n = 128\n",
    "quad_size = 1.0 / n\n",
    "dt = 4e-2 / n\n",
    "substeps = int(1 / 60 // dt)\n",
    "\n",
    "gravity = ti.Vector([0, -9.8, 0])\n",
    "spring_Y = 3e4\n",
    "dashpot_damping = 1e4\n",
    "drag_damping = 1\n",
    "\n",
    "ball_radius = 0.3\n",
    "ball_center = ti.Vector.field(3, dtype=float, shape=(1, ))\n",
    "ball_center[0] = [0, 0, 0]\n",
    "\n",
    "x = ti.Vector.field(3, dtype=float, shape=(n, n))\n",
    "v = ti.Vector.field(3, dtype=float, shape=(n, n))\n",
    "\n",
    "num_triangles = (n - 1) * (n - 1) * 2\n",
    "indices = ti.field(int, shape=num_triangles * 3)\n",
    "vertices = ti.Vector.field(3, dtype=float, shape=n * n)\n",
    "colors = ti.Vector.field(3, dtype=float, shape=n * n)\n",
    "\n",
    "bending_springs = False\n",
    "\n",
    "@ti.kernel\n",
    "def initialize_mass_points():\n",
    "    random_offset = ti.Vector([ti.random() - 0.5, ti.random() - 0.5]) * 0.1\n",
    "\n",
    "    for i, j in x:\n",
    "        x[i, j] = [\n",
    "            i * quad_size - 0.5 + random_offset[0], 0.6,\n",
    "            j * quad_size - 0.5 + random_offset[1]\n",
    "        ]\n",
    "        v[i, j] = [0, 0, 0]\n",
    "\n",
    "\n",
    "@ti.kernel\n",
    "def initialize_mesh_indices():\n",
    "    for i, j in ti.ndrange(n - 1, n - 1):\n",
    "        quad_id = (i * (n - 1)) + j\n",
    "        # 1st triangle of the square\n",
    "        indices[quad_id * 6 + 0] = i * n + j\n",
    "        indices[quad_id * 6 + 1] = (i + 1) * n + j\n",
    "        indices[quad_id * 6 + 2] = i * n + (j + 1)\n",
    "        # 2nd triangle of the square\n",
    "        indices[quad_id * 6 + 3] = (i + 1) * n + j + 1\n",
    "        indices[quad_id * 6 + 4] = i * n + (j + 1)\n",
    "        indices[quad_id * 6 + 5] = (i + 1) * n + j\n",
    "\n",
    "    for i, j in ti.ndrange(n, n):\n",
    "        if (i // 4 + j // 4) % 2 == 0:\n",
    "            colors[i * n + j] = (0.22, 0.72, 0.52)\n",
    "        else:\n",
    "            colors[i * n + j] = (1, 0.334, 0.52)\n",
    "\n",
    "initialize_mesh_indices()\n",
    "\n",
    "spring_offsets = []\n",
    "if bending_springs:\n",
    "    for i in range(-1, 2):\n",
    "        for j in range(-1, 2):\n",
    "            if (i, j) != (0, 0):\n",
    "                spring_offsets.append(ti.Vector([i, j]))\n",
    "\n",
    "else:\n",
    "    for i in range(-2, 3):\n",
    "        for j in range(-2, 3):\n",
    "            if (i, j) != (0, 0) and abs(i) + abs(j) <= 2:\n",
    "                spring_offsets.append(ti.Vector([i, j]))\n",
    "\n",
    "@ti.kernel\n",
    "def substep():\n",
    "    for i in ti.grouped(x):\n",
    "        v[i] += gravity * dt\n",
    "\n",
    "    for i in ti.grouped(x):\n",
    "        force = ti.Vector([0.0, 0.0, 0.0])\n",
    "        for spring_offset in ti.static(spring_offsets):\n",
    "            j = i + spring_offset\n",
    "            if 0 <= j[0] < n and 0 <= j[1] < n:\n",
    "                x_ij = x[i] - x[j]\n",
    "                v_ij = v[i] - v[j]\n",
    "                d = x_ij.normalized()\n",
    "                current_dist = x_ij.norm()\n",
    "                original_dist = quad_size * float(i - j).norm()\n",
    "                # Spring force\n",
    "                force += -spring_Y * d * (current_dist / original_dist - 1)\n",
    "                # Dashpot damping\n",
    "                force += -v_ij.dot(d) * d * dashpot_damping * quad_size\n",
    "\n",
    "        v[i] += force * dt\n",
    "\n",
    "    for i in ti.grouped(x):\n",
    "        v[i] *= ti.exp(-drag_damping * dt)\n",
    "        offset_to_center = x[i] - ball_center[0]\n",
    "        if offset_to_center.norm() <= ball_radius:\n",
    "            # Velocity projection\n",
    "            normal = offset_to_center.normalized()\n",
    "            v[i] -= min(v[i].dot(normal), 0) * normal\n",
    "        x[i] += dt * v[i]\n",
    "\n",
    "@ti.kernel\n",
    "def update_vertices():\n",
    "    for i, j in ti.ndrange(n, n):\n",
    "        vertices[i * n + j] = x[i, j]\n",
    "\n",
    "window = ti.ui.Window(\"Taichi Cloth Simulation on GGUI\", (1024, 1024),\n",
    "                      vsync=True)\n",
    "\n",
    "canvas = window.get_canvas()\n",
    "canvas.set_background_color((1, 1, 1))\n",
    "scene = window.get_scene()\n",
    "camera = ti.ui.Camera()\n",
    "\n",
    "current_t = 0.0\n",
    "initialize_mass_points()\n",
    "\n",
    "while window.running:\n",
    "    if current_t > 1.5:\n",
    "        # Reset\n",
    "        initialize_mass_points()\n",
    "        current_t = 0\n",
    "\n",
    "    for i in range(substeps):\n",
    "        substep()\n",
    "        current_t += dt\n",
    "    update_vertices()\n",
    "\n",
    "    camera.position(0.0, 0.0, 3)\n",
    "    camera.lookat(0.0, 0.0, 0)\n",
    "    scene.set_camera(camera)\n",
    "    \n",
    "    scene.point_light(pos=(0, 1, 2), color=(1, 1, 1))\n",
    "    scene.ambient_light((0.5, 0.5, 0.5))\n",
    "    scene.mesh(vertices,\n",
    "               indices=indices,\n",
    "               per_vertex_color=colors,\n",
    "               two_sided=True)\n",
    "\n",
    "    # Draw a smaller ball to avoid visual penetration\n",
    "    scene.particles(ball_center, radius=ball_radius * 0.95, color=(0.5, 0.42, 0.8))\n",
    "    canvas.scene(scene)\n",
    "    window.show()"
   ]
  },
  {
   "cell_type": "markdown",
   "id": "a19c6d27",
   "metadata": {},
   "source": [
    "\n",
    "With Taichi, Python can run **high-performance simulations** (physics, graphics, AI research).\n",
    "\n",
    "---\n",
    "\n",
    "### 😂 Python Meme Corner\n",
    "\n",
    "<img src=\"assets/How2Learn.jpg\" alt=\"how to learn C++ and python\"  width=\"200\"/>\n",
    "<img src=\"assets/slowPython.jpg\" alt=\"Python is slow\"  width=\"200\"/>\n",
    "<img src=\"assets/slowPython2.jpg\" alt=\"Python is slow but fast\"  width=\"200\"/>\n",
    "\n",
    "\n",
    "---\n",
    "\n",
    "**Takeaway**:\n",
    "\n",
    "Python is a **gateway language** — easy to start, powerful enough for advanced CS, and widely used in academia and industry."
   ]
  },
  {
   "cell_type": "markdown",
   "id": "5827e42a",
   "metadata": {},
   "source": [
    "## 3. Recapping Lecture materials\n",
    "\n",
    "In the previous lectures, we covered:\n",
    "1. Values and variables\n",
    "- `bool`, `int`, `float`, `str`\n",
    "\n",
    "**Bonus: interesting floating numbers**\n",
    "\n",
    "[Floating-Point Arithmetic: Issues and Limitations](https://docs.python.org/3/tutorial/floatingpoint.html)\n",
    "\n",
    "Float Point representation in machines:\n",
    "\n",
    "$$(-1)^{\\text{sign}} \\times (0.d_1d_2d_3...d_n)_2 \\times 2^{\\text{exponent}}$$ for $$d_i \\in \\set{0, 1}, d_1 \\neq 0$$"
   ]
  },
  {
   "cell_type": "code",
   "execution_count": null,
   "id": "deea9c42",
   "metadata": {},
   "outputs": [
    {
     "name": "stdout",
     "output_type": "stream",
     "text": [
      "0.10132500000000001\n",
      "---Compare using == (error-prone)---\n",
      "False\n",
      "---using some functions from other packages---\n",
      "True\n",
      "---using a absolute difference--\n",
      "True\n"
     ]
    }
   ],
   "source": [
    "a_float_number = 0.1 + 0.001325\n",
    "print(a_float_number)\n",
    "\n",
    "print(\"---Compare using == (error-prone)---\")\n",
    "print(0.1 + 0.1 + 0.1 == 0.3)\n",
    "\n",
    "print(\"---using some functions from other packages---\")\n",
    "import math\n",
    "print(math.isclose(0.1 + 0.1 + 0.1, 0.3)) \n",
    "\n",
    "print(\"---using a absolute difference--\")\n",
    "epsilon = 1e-10\n",
    "print(abs((0.1 + 0.1 + 0.1) - 0.3) < epsilon)\n",
    "\n",
    "large_number = 1e5"
   ]
  },
  {
   "cell_type": "markdown",
   "id": "46a750b6",
   "metadata": {},
   "source": [
    "- Rules for naming a variable, reserved words and other keywords for built-in functions\n",
    "\n",
    "**Bonus: Naming conventions, CamelCase naming and python style naming** \n",
    "\n",
    "[CamelCase Naming Convention](https://en.wikipedia.org/wiki/Camel_case)\n",
    "\n",
    "Such as iPhone & iPad XD\n",
    "\n",
    "Python Programmers also use underscore _ as separator in names.\n",
    "\n",
    "A code snippet from one of my projects.\n",
    "```python\n",
    "    if is_camera_dataset:\n",
    "        train_loader = DataLoader(train_dataset, batch_size=opt.batch_size, drop_last=True, num_workers=4,\n",
    "                                  shuffle=True, pin_memory=True, collate_fn=collate_fn_camera)\n",
    "        val_loader = DataLoader(val_dataset, batch_size=opt.batch_size, drop_last=True, num_workers=4,\n",
    "                                shuffle=True, pin_memory=True, collate_fn=collate_fn_camera)\n",
    "    else:\n",
    "        train_loader = DataLoader(train_dataset, batch_size=opt.batch_size, drop_last=True, num_workers=4,\n",
    "                                  shuffle=True, pin_memory=True)\n",
    "        val_loader = DataLoader(val_dataset, batch_size=opt.batch_size, drop_last=True, num_workers=4,\n",
    "                                shuffle=True, pin_memory=True)\n",
    "```"
   ]
  },
  {
   "cell_type": "code",
   "execution_count": 9,
   "id": "7463210e",
   "metadata": {},
   "outputs": [
    {
     "name": "stdout",
     "output_type": "stream",
     "text": [
      "['False', 'None', 'True', 'and', 'as', 'assert', 'async', 'await', 'break', 'class', 'continue', 'def', 'del', 'elif', 'else', 'except', 'finally', 'for', 'from', 'global', 'if', 'import', 'in', 'is', 'lambda', 'nonlocal', 'not', 'or', 'pass', 'raise', 'return', 'try', 'while', 'with', 'yield']\n",
      "1\n"
     ]
    }
   ],
   "source": [
    "import keyword\n",
    "print(keyword.kwlist)\n",
    "\n",
    "float_1 = 1.01\n",
    "print(int(float_1))"
   ]
  },
  {
   "cell_type": "markdown",
   "id": "cab3a10d",
   "metadata": {},
   "source": [
    "- type casting\n",
    "2. Taking input with `input`\n",
    "\n",
    "3. Sequence of values: `list`, `tuple`, `set`, `dict`\n",
    "\n",
    "More generally, python have a handful of `collections` datatype or `containers`.\n",
    "\n",
    "Recap in-class exercise: How to create a 3x3 table?"
   ]
  },
  {
   "cell_type": "code",
   "execution_count": 11,
   "id": "3cbb5fc1",
   "metadata": {},
   "outputs": [
    {
     "name": "stdout",
     "output_type": "stream",
     "text": [
      "[[0, 0, 0], [0, 0, 0], [0, 0, 0]]\n",
      "[[0, 1, 0], [0, 1, 0], [0, 1, 0]]\n"
     ]
    }
   ],
   "source": [
    "\n",
    "T_1=[[0,0,0],[0,0,0],[0,0,0]]\n",
    "\n",
    "T_2=[]\n",
    "empty_list = [0,0,0]\n",
    "T_2.append(empty_list)\n",
    "T_2.append(empty_list)\n",
    "T_2.append(empty_list)\n",
    "\n",
    "print(T_2)\n",
    "\n",
    "empty_list[1] = 1\n",
    "\n",
    "print(T_2)\n",
    "\n"
   ]
  },
  {
   "cell_type": "code",
   "execution_count": 12,
   "id": "7c183e08",
   "metadata": {},
   "outputs": [
    {
     "name": "stdout",
     "output_type": "stream",
     "text": [
      "id of foo: 2638120550640\n",
      "id of boo: 2638120550640\n",
      "id of foo after modification: 2638120550672\n",
      "False\n",
      "\n",
      "id of original_list: 2638218157120\n",
      "id of copied_list: 2638218157120\n",
      "id of copied_list after modification: 2638218157120\n",
      "original_list after copied_list is modified: [1, 2, 3, 4]\n",
      "True\n"
     ]
    }
   ],
   "source": [
    "boo = 1\n",
    "foo = boo\n",
    "\n",
    "print(\"id of foo:\", id(foo))\n",
    "print(\"id of boo:\", id(boo))\n",
    "\n",
    "foo += 1\n",
    "print(\"id of foo after modification:\", id(foo))\n",
    "\n",
    "print(foo is boo)\n",
    "print()\n",
    "\n",
    "original_list = [1, 2, 3]\n",
    "copied_list = original_list\n",
    "\n",
    "print(\"id of original_list:\", id(original_list))\n",
    "print(\"id of copied_list:\", id(copied_list))\n",
    "\n",
    "copied_list.append(4)\n",
    "print(\"id of copied_list after modification:\", id(copied_list))\n",
    "print(\"original_list after copied_list is modified:\", original_list)\n",
    "print(original_list is copied_list)\n"
   ]
  },
  {
   "cell_type": "markdown",
   "id": "100d1d00",
   "metadata": {},
   "source": [
    "**Bonus: [Python Mutable vs. Immutable Objects](https://www.geeksforgeeks.org/python/mutable-vs-immutable-objects-in-python/)**\n",
    "\n",
    "4. Expressions: operators and operands\n",
    "- Arithmetic, relational, logical operations and membership test.\n",
    "- Precedence of operators\n",
    "\n",
    "5. Special Characters, r/f-trings, print with `sep` or `end`\n",
    "\n",
    "**Bonus: Do you know you can print special unicode character (like emojis) in python?**"
   ]
  },
  {
   "cell_type": "code",
   "execution_count": 13,
   "id": "ab661dba",
   "metadata": {},
   "outputs": [
    {
     "name": "stdout",
     "output_type": "stream",
     "text": [
      "Welcome to COMP1117, enjoy coding with Python 🐍\n",
      "😀\n"
     ]
    }
   ],
   "source": [
    "Course_category = \"COMP\"\n",
    "Course_code = 1117\n",
    "\n",
    "print(f\"Welcome to {Course_category}{Course_code}, enjoy coding with Python \\U0001f40d\")\n",
    "print(\"\\U0001f600\")"
   ]
  },
  {
   "cell_type": "markdown",
   "id": "c7ec1733",
   "metadata": {},
   "source": [
    "\n",
    "## 3. Ways to run Python\n",
    "1. Interactive mode in IDLE\n",
    "\n",
    "2. Script mode in IDLE\n",
    "\n",
    "3. VPL on moodle\n",
    "\n",
    "4. (Optional) Google Colab and Jupyter Notebook\n",
    "\n",
    "- We prepare the tutorial material using ipython notebook for better interactive demonstration. The notebook will be uploaded to google colab and shared with you. Feel free to make a copy of it and play with blocks inside. [Colab Link](https://colab.research.google.com/github/linearalgebrayhz/COMP1117-25fall/blob/main/Tutorial1/T1.ipynb)\n",
    "\n",
    "5. (Optional) Command Line (CLI)\n",
    "\n",
    "\n",
    "\\[Demo\\]\n"
   ]
  },
  {
   "cell_type": "markdown",
   "id": "30ab6e9b",
   "metadata": {},
   "source": [
    "\n",
    "## 4. Worksheet problem:\n",
    "\n",
    "### Exercise 1.1 Hello World\n",
    "Print “Hello World” in the Python Shell in IDLE.\n",
    "\n",
    "Print “Hello World” in VPL.\n"
   ]
  },
  {
   "cell_type": "code",
   "execution_count": 14,
   "id": "8117cd0d",
   "metadata": {},
   "outputs": [
    {
     "name": "stdout",
     "output_type": "stream",
     "text": [
      "Hello World\n"
     ]
    }
   ],
   "source": [
    "print(\"Hello World\")"
   ]
  },
  {
   "cell_type": "markdown",
   "id": "d1d973a9",
   "metadata": {},
   "source": [
    "\n",
    "### Exercise 1.2 Print a pattern\n",
    "Write a program to print the following pattern in IDLE:\n",
    "```\n",
    "lololo\n",
    "ololol\n",
    "lololo\n",
    "```\n",
    "Print the pattern in VPL"
   ]
  },
  {
   "cell_type": "code",
   "execution_count": 15,
   "id": "0ecdb2c7",
   "metadata": {},
   "outputs": [
    {
     "name": "stdout",
     "output_type": "stream",
     "text": [
      "lololo\n",
      "ololol\n",
      "lololo\n"
     ]
    }
   ],
   "source": [
    "print(\"lololo\")\n",
    "print(\"ololol\")\n",
    "print(\"lololo\")"
   ]
  },
  {
   "cell_type": "markdown",
   "id": "46994b48",
   "metadata": {},
   "source": [
    "\n",
    "### Exercise 1.3 Calculate area of a triangle\n",
    "Write a program to store the base and height of a triangle as 10 and 4 respectively. Calculate the area of the triangle and print the answer on screen. \n",
    "\n",
    "Note: Area of triangle is calculated by the formula:\n",
    "$$\\text{Area of triangle} = \\frac{\\text{base}\\times\\text{height}}{2}$$"
   ]
  },
  {
   "cell_type": "code",
   "execution_count": null,
   "id": "ab3a309c",
   "metadata": {},
   "outputs": [
    {
     "name": "stdout",
     "output_type": "stream",
     "text": [
      "3.0\n"
     ]
    }
   ],
   "source": [
    "base = 2.0\n",
    "height = 3.0\n",
    "\n",
    "area_triangle = 0.5 * base * height\n",
    "\n",
    "print(area_triangle)"
   ]
  },
  {
   "cell_type": "markdown",
   "id": "0cd12deb",
   "metadata": {},
   "source": [
    "### Exercise 1.4 Time conversion\n",
    "Write a program to ask the user to input a number (in seconds) and convert it into the format hour, minute, second, then print the result separated by “ : ”.\n",
    "\n",
    "For example, if the input is 3666, your output should be 1 : 1 : 6 (as it is 1 hour 1 minute and 6 seconds)."
   ]
  },
  {
   "cell_type": "code",
   "execution_count": null,
   "id": "ce933712",
   "metadata": {},
   "outputs": [],
   "source": [
    "input_time = int(input())\n",
    "\n",
    "hours = input_time // 3600\n",
    "remainder = input_time % 3600\n",
    "\n",
    "minutes = remainder // 60\n",
    "second = remainder % 60\n",
    "\n",
    "print(f\"{hours}:{minutes}:{second}\")\n"
   ]
  },
  {
   "cell_type": "markdown",
   "id": "3b45b85b",
   "metadata": {},
   "source": [
    "### Exercise 1.5 Repeating a pattern\n",
    "Write a program to ask the user to input a string (as the pattern). Then, ask the user to input an integer (as n). Print the pattern n times."
   ]
  },
  {
   "cell_type": "code",
   "execution_count": null,
   "id": "eb2632de",
   "metadata": {},
   "outputs": [],
   "source": []
  },
  {
   "cell_type": "markdown",
   "id": "a67e7fa9",
   "metadata": {},
   "source": [
    "## 5. MC Questions"
   ]
  },
  {
   "cell_type": "markdown",
   "id": "1efa8542",
   "metadata": {},
   "source": [
    "## Bonus Section: Why Should You Use an IDE? - An Introduction to Visual Studio Code\n",
    "\n",
    "So far, you might be using **IDLE** (Python’s built-in editor). While it’s simple, most programmers prefer a modern **IDE (Integrated Development Environment)** like [**Visual Studio Code (VS Code)**](https://code.visualstudio.com/) for long-term projects. \n",
    "\n",
    "---\n",
    "\n",
    "### Why VS Code?\n",
    "- **Cross-platform**: Runs on Windows, macOS, Linux.  \n",
    "- **Lightweight & fast**: Not as heavy as other IDEs, but very powerful.  \n",
    "- **Extensible**: Thousands of extensions (Python, Git, Jupyter, Markdown, etc.).  \n",
    "- **All-in-one**: Editor, terminal, debugger, and [version control](https://en.wikipedia.org/wiki/Version_control) in one place.  \n",
    "\n",
    "---\n",
    "\n",
    "### Key Features for Beginners\n",
    "1. **Autocompletion**  \n",
    "   VS Code suggests functions, variables, and parameters as you type. So that typos are significantly reduced.\n",
    "\n",
    "2. **Integrated Terminal**  \n",
    "   Run Python directly inside VS Code (`python file.py`).\n",
    "\n",
    "3. **Debugging Tools**  \n",
    "   Set breakpoints, step through code, inspect variables.\n",
    "\n",
    "4. **Extensions**  \n",
    "   - Python (official extension by Microsoft).  \n",
    "   - Jupyter (for notebooks).  \n",
    "   - Markdown Preview.  \n",
    "\n",
    "5. **Themes & Customization**  \n",
    "   Make coding more enjoyable with themes like *One Dark Pro* or *Dracula*.\n",
    "\n",
    "   *Why programmers prefer dark themes? Because light themes might attract **bugs*** XD\n",
    "\n",
    "---\n",
    "\n",
    "### Quick Start: Running Python in VS Code\n",
    "1. Install [**Python**](https://www.python.org/) and [**VS Code**](https://code.visualstudio.com/).  \n",
    "2. Open your `.py` file in VS Code or create new file.  \n",
    "3. Install the **Python extension**.\n",
    "4. Write script and save it.\n",
    "4. Press \"run python file\" icon &#x25B6; located in the upper right of the panel or press `Ctrl + F5` (Windows/Linux) or `Cmd + F5` (Mac) to run your code.  \n",
    "\n",
    "---\n",
    "\n",
    "### Tips\n",
    "\n",
    "Even if you like using IDLE or Google Colab for experiments, learning VS Code early prepares you for **real-world projects, internships, and advanced courses**. It’s the editor you’ll likely use for the rest of your CS journey. Try VS code at home!\n",
    "\n",
    "VS Code is an open-sourced software and there are other IDEs build upon it, such as AI-powered IDE Cursor and WindSurf.\n",
    "\n",
    "There are also other IDEs, such as [PyCharm](https://www.jetbrains.com/pycharm/) from JetBrain. You can obtain access to it by applying for [GitHub Student Developer Pack](https://education.github.com/pack) (Free of charge. Might need renewal each year during your study.)"
   ]
  },
  {
   "cell_type": "markdown",
   "id": "336334a8",
   "metadata": {},
   "source": [
    "## Bonus Section: how to take notes elegently? - An introduction to Markdown \n",
    "\n",
    "### What is Markdown?\n",
    "\n",
    "When you move on to more advanced CS courses, you’ll often need to write notes, document your code, or prepare reports. **Markdown** is a lightweight markup language that makes your text clean, structured, and easy to read — perfect for notes, README files, code documentation and even academic writing.\n",
    "\n",
    "---\n",
    "\n",
    "### Why Markdown?\n",
    "- Simple syntax, easy to learn.\n",
    "- Works almost everywhere: GitHub, Jupyter, VS Code, Notion, Obsidian…\n",
    "- Converts neatly into PDF/HTML for sharing.\n",
    "\n",
    "---\n",
    "\n",
    "### Common Markdown Syntax\n",
    "\n",
    "**1. Headings**\n",
    "```markdown\n",
    "# Heading 1\n",
    "## Heading 2\n",
    "### Heading 3\n",
    "````\n",
    "\n",
    "**2. Emphasis**\n",
    "\n",
    "\n",
    "\\*italic\\*   → *italic*  \n",
    "\n",
    "\\*\\*bold\\*\\*   → **bold**  \n",
    "\n",
    "\\`code\\`     → `code`\n",
    "\n",
    "\\~\\~strikethrough\\~\\~ -> ~~strikethrough~~\n",
    "\n",
    "**3. Lists**\n",
    "\n",
    "```markdown\n",
    "- Bullet 1\n",
    "- Bullet 2\n",
    "  - Sub-bullet\n",
    "\n",
    "1. Numbered item\n",
    "2. Another item\n",
    "```\n",
    "\n",
    "**4. Links & Images**\n",
    "\n",
    "```markdown\n",
    "[Google](https://www.google.com)\n",
    "\n",
    "![Python Logo](https://www.python.org/static/community_logos/python-logo.png)\n",
    "```\n",
    "[Google](https://www.google.com)\n",
    "\n",
    "![Python Logo](https://www.python.org/static/community_logos/python-logo.png)\n",
    "\n",
    "\n",
    "**5. Code Blocks**\n",
    "\n",
    "Wrap the code block with \\`\\`\\`, followed by language name such as Python, cpp and etc. The code will have proper highlight.\n",
    "\n",
    "```python\n",
    "import math\n",
    "\n",
    "def hello():\n",
    "    print(\"Hello, world!\")\n",
    "```\n",
    "\n",
    "**6. Blockquotes**\n",
    "\n",
    "> This is a quote.\n",
    "\n",
    "\n",
    "**7. Support Tex for math expressions**\n",
    "\n",
    "$$F(a) - F(b) = \\int_{a}^{b}f(x) dx$$\n",
    "$$\\begin{bmatrix} \n",
    "    x_1 & x_2 & x_3 \\\\\n",
    "    x_4 & x_5 & x_6 \\\\\n",
    "    x_7 & x_8 & x_9\n",
    "\\end{bmatrix}$$\n",
    "\n",
    "---\n",
    "\n",
    "### Where to Try Markdown?\n",
    "- [Google Colab](https://colab.research.google.com/) (in text cells)\n",
    "- [VS Code](https://code.visualstudio.com/) (with Markdown Preview plugin)\n",
    "- [GitHub](https://github.com/) README files\n",
    "- Note-taking apps (Notion, Obsidian, Jupyter Notebooks)\n",
    "\n",
    "---\n",
    "\n",
    "Start writing your learning notes in Markdown!\n"
   ]
  }
 ],
 "metadata": {
  "kernelspec": {
   "display_name": "Python 3",
   "language": "python",
   "name": "python3"
  },
  "language_info": {
   "codemirror_mode": {
    "name": "ipython",
    "version": 3
   },
   "file_extension": ".py",
   "mimetype": "text/x-python",
   "name": "python",
   "nbconvert_exporter": "python",
   "pygments_lexer": "ipython3",
   "version": "3.10.11"
  }
 },
 "nbformat": 4,
 "nbformat_minor": 5
}
