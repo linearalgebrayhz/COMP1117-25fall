{
 "cells": [
  {
   "cell_type": "markdown",
   "id": "cb8616ab",
   "metadata": {},
   "source": [
    "# COMP1117: Computer programming - Tutorial 5\n",
    "\n",
    "2025-10-21\n",
    "\n",
    "Welcome to the tutorial session for COMP1117 1B!\n",
    "\n",
    "---\n",
    "\n",
    "**STA Info**\n",
    "\n",
    "Yang Haozhe (Thomas): Fourth-year Computer Science Student (BEng(CompSc))\n",
    "\n",
    "Contacts: \n",
    "\n",
    "- Email: yhz2004@connect.hku.hk\n",
    "- WeChat: Thomas316316316316\n",
    "- WhatsApp: +852 56039533\n",
    "\n",
    "Moodle tutorial groups have been created for this tutorial session. Stay tuned for important announcements from Moodle!"
   ]
  },
  {
   "cell_type": "markdown",
   "id": "f50b39d8",
   "metadata": {},
   "source": [
    "## Announcements\n",
    "\n",
    "- Tutorial Exercise 5 released and is due next Friday night\n",
    "- In class Quiz Oct 31\n",
    "- No class this Friday due to HKU Info Day"
   ]
  },
  {
   "cell_type": "code",
   "execution_count": null,
   "id": "3f301e9e",
   "metadata": {},
   "outputs": [],
   "source": [
    "# do not delete this line\n",
    "from time_util import timer\n",
    "# do not delete this line"
   ]
  },
  {
   "cell_type": "markdown",
   "id": "f5f927ff",
   "metadata": {},
   "source": [
    "## 1. A quick go through of previous tutorial materials"
   ]
  },
  {
   "cell_type": "markdown",
   "id": "32094047",
   "metadata": {},
   "source": [
    "Loops in Python (con't)\n",
    "\n",
    "I prepared some exercises for you! Have a try!\n",
    "\n",
    "#### Print Pattern\n",
    "\n",
    "Write a Python Program using loops to print the following pattern for a given number of rows `n`. For example, if `n=5`, the output should be:\n",
    "\n",
    "```\n",
    "0\n",
    "10\n",
    "010\n",
    "1010\n",
    "01010\n",
    "```\n",
    "\n",
    "*Happen to become this weeks' tutorial exercise*"
   ]
  },
  {
   "cell_type": "code",
   "execution_count": null,
   "id": "2ce100fa",
   "metadata": {},
   "outputs": [],
   "source": []
  },
  {
   "cell_type": "markdown",
   "id": "69e55e61",
   "metadata": {},
   "source": [
    "#### Merge Two Lists\n",
    "Write a Python Program using loops to merge two **sorted** list into one **sorted** list.\n",
    "\n",
    "For example, given `[1,2,5,7]` and `[3, 6, 9, 10, 15]`. The merged list should be `[1, 2, 3, 5, 6, 7, 9, 10, 15]`.\n",
    "\n",
    "Input format: space separated numbers in two lines\n",
    "```\n",
    "1 2 5 7\n",
    "3 6 9 10 15\n",
    "```\n",
    "\n",
    "output -> list:\n",
    "```\n",
    ">>> [1, 2, 3, 5, 6, 7, 9, 10, 15]\n",
    "```\n",
    "\n",
    "Hint: you may process user input using `split()`. Search online document or consult AI how to use it if you are not familiar with this."
   ]
  },
  {
   "cell_type": "code",
   "execution_count": null,
   "id": "c4681369",
   "metadata": {},
   "outputs": [],
   "source": []
  },
  {
   "cell_type": "markdown",
   "id": "5cc4ceb3",
   "metadata": {},
   "source": [
    "## 2. For today's tutorial\n",
    "\n",
    "### 2.1 `lambda` expressions\n",
    "\n",
    "lambda expressions are a way to create small, **anonymous** functions in Python. They are often used for short operations that are not complex enough to warrant a full function definition.\n",
    "\n",
    "(Many other programming languages have similar concepts.)\n",
    "\n",
    "```python\n",
    "lambda <arguments list>: <return expression>\n",
    "```"
   ]
  },
  {
   "cell_type": "code",
   "execution_count": null,
   "id": "543c9379",
   "metadata": {},
   "outputs": [],
   "source": [
    "small_function = lambda x, y: x + y\n",
    "\n",
    "print(small_function(1,2))\n",
    "\n",
    "# You can also do this\n",
    "\n",
    "(lambda x: x+1)(1)"
   ]
  },
  {
   "cell_type": "markdown",
   "id": "15600abc",
   "metadata": {},
   "source": [
    "It would be very handy to define small functions on the fly without formally defining them using `def`."
   ]
  },
  {
   "cell_type": "code",
   "execution_count": null,
   "id": "f40ff121",
   "metadata": {},
   "outputs": [],
   "source": [
    "list_num = [1,2,3,4,6,9,10,12,128,1403, 1117, 114514]\n",
    "\n",
    "even_num = filter(lambda x: not x%2, list_num)\n",
    "\n",
    "print(list(even_num))"
   ]
  },
  {
   "cell_type": "markdown",
   "id": "4dcf64c4",
   "metadata": {},
   "source": [
    "### 2.2 Recursion\n",
    "\n",
    "This is a preview of lecture 6. Lecture 6 slides is already available on Moodle if you want to have a look!\n",
    "\n",
    "Recursion is a programming technique where a function calls itself to solve a smaller instance of the same problem. It is often used for problems that can be broken down into smaller, similar subproblems.\n",
    "\n",
    "Two important components of a recursive function:\n",
    "1. **Base Case**: The condition under which the function stops calling itself. This prevents infinite recursion.\n",
    "2. **Recursive Case**: The part of the function where it calls itself with a modified argument that brings it closer to the base case.\n",
    "\n",
    "Classic example: Fibonacci sequence\n",
    "\n",
    "Fibonacci sequence is defined as:\n",
    "\n",
    "$\\{a_n\\} \\; \\text{for} \\; n \\in N, a_0 = 0, a_1 = 1$\n",
    "$$a_n = a_{n-1} + a_{n-2} \\; \\text{for} \\; n \\geq 2$$\n",
    "\n",
    "0, 1, 1, 2, 3, 5, 8, 13, 21, 34, ...\n",
    "\n",
    "<img src=\"assets\\Fibonacci_Spiral.png\" alt=\"Fibonacci Spiral\" width=\"400\"/>\n",
    "\n",
    "Forms a beautiful spiral pattern.\n",
    "\n",
    "The fibonacci sequence is defined **recursively**. So to compute $a_5$. we can compute $a_4$ and $a_3$ first. And to compute $a_4$, we can compute $a_3$ and $a_2$ first, and so on."
   ]
  },
  {
   "cell_type": "code",
   "execution_count": null,
   "id": "b0f40fa9",
   "metadata": {},
   "outputs": [],
   "source": []
  },
  {
   "cell_type": "markdown",
   "id": "be10f81d",
   "metadata": {},
   "source": [
    "Can we do it iteratively? Yes, but the recursive approach is more straightforward from definition and mathematically elegant."
   ]
  },
  {
   "cell_type": "code",
   "execution_count": null,
   "id": "77cedbd0",
   "metadata": {},
   "outputs": [],
   "source": [
    "term_num = 5\n",
    "\n",
    "prev = 0\n",
    "curr = 1\n",
    "\n",
    "# warning: corner case not handled correctly\n",
    "for _ in range(term_num-1):\n",
    "    prev, curr = curr, prev + curr\n",
    "\n",
    "print(curr)"
   ]
  },
  {
   "cell_type": "markdown",
   "id": "4f71e799",
   "metadata": {},
   "source": [
    "Another very classical example: quick exponentiation\n",
    "\n",
    "large exponentiation can take a long time if we do it naively by multiplying the base repeatedly $O(N)$. But using the property that:\n",
    "\n",
    "$$ x^n = \\begin{cases}\n",
    "1 & \\text{if } n = 0 \\\\\n",
    "x & \\text{if } n = 1 \\\\\n",
    "x^{n/2} \\cdot x^{n/2} & \\text{if } n \\text{ is even} \\\\\n",
    "x^{(n-1)/2} \\cdot x^{(n-1)/2} \\cdot x  & \\text{if } n \\text{ is odd} \\end{cases}\n",
    "$$\n",
    "\n",
    "For every large n, we divide the problem into two smaller subproblems of size about n/2.\n"
   ]
  },
  {
   "cell_type": "code",
   "execution_count": null,
   "id": "8fca176c",
   "metadata": {},
   "outputs": [],
   "source": [
    "# increase int limit for large exponentiation, do not modify\n",
    "import sys\n",
    "sys.set_int_max_str_digits(1000000)\n",
    "# increase int limit for large exponentiation, do not modify\n",
    "\n",
    "@timer\n",
    "def exponetiation_linear(base, exp, identity = 1):\n",
    "    result = identity\n",
    "    for i in range(exp):\n",
    "        result *= base\n",
    "    return result\n",
    "\n",
    "# try by your self!!!\n",
    "def quick_exponentiation(base, exp, identity = 1):\n",
    "    if # base case here:\n",
    "        # You may add more base cases if needed\n",
    "    elif # recursive cases:\n",
    "        # your implementation here\n",
    "        # You may add more recursive cases if needed\n",
    "    else:\n",
    "        # anything else, you may delete this else block if not needed\n",
    "        pass\n",
    "\n",
    "@timer\n",
    "def quick_exponentiation_wrapper(base, exp, identity = 1):\n",
    "    return quick_exponentiation(base, exp, identity)\n",
    "\n",
    "# exponetiation_linear(2, 1000000)\n",
    "# quick_exponentiation_wrapper(2, 1000000)"
   ]
  },
  {
   "cell_type": "markdown",
   "id": "3057c06c",
   "metadata": {},
   "source": [
    "For those who have background in linear algebra and matrix multiplication, Fibonacci numbers can also be computed with quick exponentiation of matrices!"
   ]
  },
  {
   "cell_type": "markdown",
   "id": "c84159b2",
   "metadata": {},
   "source": [
    "## 3. Tutorial Slides"
   ]
  },
  {
   "cell_type": "markdown",
   "id": "5e43b934",
   "metadata": {},
   "source": []
  },
  {
   "cell_type": "markdown",
   "id": "dfa5afa4",
   "metadata": {},
   "source": [
    "## 4. Tutorial Exercises\n",
    "\n",
    "Exercise 5.1 Inverted triangle\n",
    "Write a program to ask the user to input a positive integer n. Use FOR loop to finish this question.\n",
    "\n",
    "Print an inverted triangle as follows:\n",
    "\n",
    "0 1 2 3 4 … n-1 n\n",
    "\n",
    "0 1 2 3 4 … n-1\n",
    "\n",
    "…\n",
    "\n",
    "0 1 2\n",
    "\n",
    "0 1\n",
    "\n",
    "0\n"
   ]
  },
  {
   "cell_type": "code",
   "execution_count": null,
   "id": "59cc1dfc",
   "metadata": {},
   "outputs": [],
   "source": [
    "max_num = int(input())\n",
    "\n",
    "for i in range(max_num+1):\n",
    "    for j in range(max_num+1-i):\n",
    "        print(j, end = \" \")\n",
    "    print()"
   ]
  },
  {
   "cell_type": "markdown",
   "id": "611afb00",
   "metadata": {},
   "source": [
    "Exercise 5.2 Special triangle\n",
    "Write a program to ask the user to input a positive integer n. Use FOR loop to finish this question.\n",
    "\n",
    "Print a triangle with n lines as follows:\n",
    "\n",
    "0\n",
    "\n",
    "1 0\n",
    "\n",
    "0 1 0\n",
    "\n",
    "1 0 1 0\n",
    "\n",
    "..."
   ]
  },
  {
   "cell_type": "code",
   "execution_count": null,
   "id": "d945b3f5",
   "metadata": {},
   "outputs": [],
   "source": []
  },
  {
   "cell_type": "markdown",
   "id": "933f592e",
   "metadata": {},
   "source": [
    "Exercise 5.3 Sum of list \n",
    "\n",
    "Complete the code below by defining the two functions readList() and calSum() as explained below.\n",
    "\n",
    "```python\n",
    "myList = readList()\n",
    "sum = calSum(myList)\n",
    "print(sum)\n",
    "```\n",
    "\n",
    "`readList()`: Read numbers from user until zero is received, return the list of input numbers.\n",
    "\n",
    "`calSum(myList)`: Calculate the sum of the values in the list and return it.\n",
    "\n",
    "Hints: \n",
    "1. To add a number x into a list a, we can use append() (e.g. a.append(x)).\n",
    "2. The use of built-in sum function is not allowed here. "
   ]
  },
  {
   "cell_type": "code",
   "execution_count": null,
   "id": "bfe2f863",
   "metadata": {},
   "outputs": [],
   "source": []
  },
  {
   "cell_type": "markdown",
   "id": "bab637af",
   "metadata": {},
   "source": [
    "Exercise 5.4 Set of numbers\n",
    "\n",
    "Complete the code below by defining the two functions readSet() and findNo() as explained below.\n",
    "\n",
    "```python\n",
    "mySet = readSet()\n",
    "number = int(input('Find number? '))\n",
    "print(findNo(mySet, number))\n",
    "```\n",
    "\n",
    "`readSet()`: Read numbers from user until zero is received, return the set of numbers.\n",
    "\n",
    "`findNo(mySet, number)`: return “True” if the number in the set; else return “False”.\n",
    "\n",
    "Hints: You can ignore the case of entering multiple identical numbers."
   ]
  },
  {
   "cell_type": "code",
   "execution_count": null,
   "id": "79eeefc8",
   "metadata": {},
   "outputs": [],
   "source": [
    "def readSet():\n",
    "    mySet = set()\n",
    "    while True:\n",
    "        num = int(input())\n",
    "        if not num:\n",
    "            break\n",
    "        mySet.add(num)\n",
    "    return mySet\n",
    "\n",
    "def findNo(mySet, number):\n",
    "    return number in mySet\n",
    "\n",
    "mySet = readSet()\n",
    "number = int(input('Find number? '))\n",
    "print(findNo(mySet, number)) \n"
   ]
  },
  {
   "cell_type": "markdown",
   "id": "058bbae8",
   "metadata": {},
   "source": [
    "## Bonus Section 1: Python Decorators\n",
    "\n",
    "This section is deleted. It maybe too hard for the moment. Let's get back to this when we learn more about functions and recursion.\n",
    "\n",
    "We have used decorator in this tutorial, remember the `@timer`? "
   ]
  },
  {
   "cell_type": "markdown",
   "id": "b79f8d28",
   "metadata": {},
   "source": [
    "## Bonus Section 2: An introduction to Object Oriented Programming (OOP)\n",
    "\n",
    "**OOP will not be tested in COMP1117** and it will be covered in an disciplinary elective course COMP2396 Objected Oriented Programming and Java. OOP syntax varies between programming languages, but the core concepts remain similar. Here, we will introduce OOP concepts using Python, which has a simple and (maybe not so) readable syntax.\n",
    "\n",
    "### Why OOP?\n",
    "\n",
    "As programs grow larger, it becomes hard to manage data and related operations separately.\n",
    "OOP helps you **organize code around “objects”** — small bundles that *combine* data and behavior.\n",
    "\n",
    "> In the real world, everything has **properties** (data) and **actions** (functions).\n",
    "\n",
    "Example:\n",
    "A *car* has\n",
    "\n",
    "* Properties → color, speed, capacity\n",
    "* Actions → accelerate, brake\n",
    "\n",
    "OOP models this idea directly in code.\n",
    "\n",
    "---\n",
    "\n",
    "### Key Concepts\n",
    "\n",
    "#### Class and Object\n",
    "\n",
    "* **Class** → blueprint or template (like “Car”)\n",
    "* **Object** → actual instance (like “my_car”)"
   ]
  },
  {
   "cell_type": "code",
   "execution_count": null,
   "id": "ecf0a041",
   "metadata": {},
   "outputs": [],
   "source": [
    "class Car:\n",
    "    def __init__(self, color):\n",
    "        self.color = color\n",
    "        self.speed = 0\n",
    "        self.capacity = 5\n",
    "\n",
    "    def get_speed(self):\n",
    "        return self.speed\n",
    "\n",
    "    def accelerate(self, amount):\n",
    "        self.speed += amount\n",
    "\n",
    "    def brake(self):\n",
    "        self.speed = max(0, self.speed - 10)\n",
    "\n",
    "my_car = Car(\"red\")  # create an object\n",
    "my_car.accelerate(30)\n",
    "print(my_car.speed)  # 30"
   ]
  },
  {
   "cell_type": "markdown",
   "id": "85c2420c",
   "metadata": {},
   "source": [
    "#### Attributes and Methods\n",
    "\n",
    "* **Attributes** are variables that belong to an object (`self.color`, `self.speed`)\n",
    "* **Methods** are functions defined inside a class (`accelerate`, `brake`)\n",
    "\n",
    "Each method has the special first parameter `self` — it refers to *this* object.\n",
    "\n",
    "---\n",
    "\n",
    "#### Encapsulation\n",
    "\n",
    "Objects keep their data and methods *together* — you interact with them through well-defined interfaces.\n",
    "\n",
    "Example:\n",
    "You don’t need to know how `accelerate()` works inside; you just call it.\n",
    "This makes code easier to understand and change.\n",
    "\n",
    "---\n",
    "\n",
    "#### Inheritance (basic idea)\n",
    "\n",
    "A new class can **inherit** from an existing one to reuse and extend behavior.\n",
    "\n",
    "*Still remember I mentioned bool inherit from int?*"
   ]
  },
  {
   "cell_type": "code",
   "execution_count": null,
   "id": "6aa39ce6",
   "metadata": {},
   "outputs": [],
   "source": [
    "class ElectricCar(Car):\n",
    "    def charge(self):\n",
    "        print(\"Charging battery...\")\n",
    "\n",
    "xiaomi_SU7 = ElectricCar(color=\"black\")\n",
    "\n",
    "xiaomi_SU7.accelerate(60)\n",
    "\n",
    "print(xiaomi_SU7.get_speed())\n",
    "\n",
    "xiaomi_SU7.charge()"
   ]
  },
  {
   "cell_type": "markdown",
   "id": "8e6deb65",
   "metadata": {},
   "source": [
    "`ElectricCar` automatically has all methods from `Car` and can add more.\n",
    "\n",
    "---\n",
    "\n",
    "#### Polymorphism (simple version)\n",
    "\n",
    "This is a simplified explanation of polymorphism. (search online for more details!)\n",
    "\n",
    "Different classes can define methods with the *same name*, and Python will call the right one depending on the object."
   ]
  },
  {
   "cell_type": "code",
   "execution_count": null,
   "id": "2620df16",
   "metadata": {},
   "outputs": [],
   "source": [
    "\n",
    "class Animal:\n",
    "    def speak(self):\n",
    "        # abstract method to be implemented\n",
    "        pass\n",
    "\n",
    "class Dog(Animal):\n",
    "    def speak(self):\n",
    "        print(\"Woof!\")\n",
    "\n",
    "class Cat(Animal):\n",
    "    def speak(self):\n",
    "        print(\"Meow!\")\n",
    "\n",
    "for animal in [Dog(), Cat()]:\n",
    "    animal.speak()\n"
   ]
  },
  {
   "cell_type": "markdown",
   "id": "69cab817",
   "metadata": {},
   "source": [
    "### Why OOP Matters\n",
    "\n",
    "* Organize **complex programs** (e.g., games, simulations, large systems)\n",
    "* Improve **code reuse** and **maintainability**\n",
    "* Encourage **thinking in terms of objects**, not just steps\n",
    "\n",
    "---\n",
    "\n",
    "### Quick Demo\n",
    "\n",
    "Let me try to quickly build a complex number class to demonstrate OOP concepts!\n"
   ]
  },
  {
   "cell_type": "code",
   "execution_count": null,
   "id": "48347ad0",
   "metadata": {},
   "outputs": [],
   "source": []
  }
 ],
 "metadata": {
  "kernelspec": {
   "display_name": "Python 3",
   "language": "python",
   "name": "python3"
  },
  "language_info": {
   "codemirror_mode": {
    "name": "ipython",
    "version": 3
   },
   "file_extension": ".py",
   "mimetype": "text/x-python",
   "name": "python",
   "nbconvert_exporter": "python",
   "pygments_lexer": "ipython3",
   "version": "3.10.11"
  }
 },
 "nbformat": 4,
 "nbformat_minor": 5
}
