{
 "cells": [
  {
   "cell_type": "markdown",
   "id": "cb8616ab",
   "metadata": {},
   "source": [
    "# COMP1117: Computer programming - Tutorial 3\n",
    "\n",
    "2025-9-30\n",
    "\n",
    "Welcome to the tutorial session for COMP1117 1B!\n",
    "\n",
    "---\n",
    "\n",
    "**STA Info**\n",
    "\n",
    "Yang Haozhe (Thomas): Fourth-year Computer Science Student (BEng(CompSc))\n",
    "\n",
    "Contacts: \n",
    "\n",
    "- Email: yhz2004@connect.hku.hk\n",
    "- WeChat: Thomas316316316316\n",
    "- WhatsApp: +852 56039533\n",
    "\n",
    "Moodle tutorial groups have been created for this tutorial session. Stay tuned for important announcements from Moodle!"
   ]
  },
  {
   "cell_type": "markdown",
   "id": "f50b39d8",
   "metadata": {},
   "source": [
    "## Announcements\n",
    "\n",
    "- Tutorial Exercise 3 released and is due next Friday night\n",
    "- Assignment 1 due 23:59 Oct 05, 2025\n",
    "- In class Quiz Oct 31"
   ]
  },
  {
   "cell_type": "markdown",
   "id": "f5f927ff",
   "metadata": {},
   "source": [
    "## 1. Lecture Recap\n",
    "\n",
    "Continuing with discussion last week and diving deeper.\n",
    "\n",
    "### 1.1 More on Boolean and if-else statements\n",
    "\n",
    "#### Truth Table\n",
    "\n",
    "| A     | B     | `A and B` | `A or B` | `not A` |\n",
    "| ----- | ----- | --------- | -------- | ------- |\n",
    "| True  | True  | True      | True     | False   |\n",
    "| True  | False | False     | True     | False   |\n",
    "| False | True  | False     | True     | True    |\n",
    "| False | False | False     | False    | True    |\n",
    "\n",
    "#### Useful Identities\n",
    "\n",
    "Some notations for your information:\n",
    "- $\\neg$ for not\n",
    "- $\\land$ for and\n",
    "- $\\lor$ for or\n",
    "\n",
    "The following logic identities will not be tested during quizes. But it would be beneficial to have some knowledge about logic identities when writing if-else statements.\n",
    "\n",
    "`not (not A) == A` (double negation)\n",
    "\n",
    "- $\\neg (\\neg A) = A$\n",
    "\n",
    "---\n",
    "\n",
    "`A and (B or C) == (A and B) or (A and C)` (distributive law)\n",
    "- $A \\land (B \\lor C) = (A \\land B) \\lor (A \\land C)$\n",
    "\n",
    "`A or (B and C) == (A or B) and (A or C)`\n",
    "- $A \\lor (B \\land C) = (A \\lor B) \\land (A \\lor C)$\n",
    "---\n",
    "`not (A and B) == (not A or not B)` (De Morgan Law)\n",
    "- $\\neg (A \\land B) = (\\neg A \\lor \\neg B)$\n",
    "\n",
    "*There is a symmetric identity for the case of or.*\n",
    "\n",
    "---\n",
    "\n",
    "- `A or True == True`, `A and False == False`\n",
    "\n",
    "You may verify the above logic identities with Python or [Venn Diagram](https://en.wikipedia.org/wiki/Venn_diagram) etc.\n",
    "\n",
    "These are the building blocks of **digital circuits** and also help in simplifying conditions in code.\n",
    "\n",
    "You will learn more about these in COMP2121 MATH2012 and COMP2120.\n"
   ]
  },
  {
   "cell_type": "markdown",
   "id": "d6559002",
   "metadata": {},
   "source": [
    "\n",
    "### 2. Python Dictionaries\n",
    "\n",
    "#### 2.1 Dictionary Basics\n",
    "\n",
    "Create Dictionary with `{}`\n"
   ]
  },
  {
   "cell_type": "code",
   "execution_count": 11,
   "id": "b02883cb",
   "metadata": {},
   "outputs": [
    {
     "name": "stdout",
     "output_type": "stream",
     "text": [
      "Alice\n"
     ]
    }
   ],
   "source": [
    "student = {\"name\": \"Alice\", \"age\": 20}\n",
    "print(student[\"name\"])   # access\n",
    "student[\"age\"] = 21      # modify\n",
    "student[\"year\"] = 2      # add new key"
   ]
  },
  {
   "cell_type": "markdown",
   "id": "64c560df",
   "metadata": {},
   "source": [
    "\n",
    "#### 2.2 Dictionary Methods"
   ]
  },
  {
   "cell_type": "code",
   "execution_count": 42,
   "id": "2eced801",
   "metadata": {},
   "outputs": [
    {
     "name": "stdout",
     "output_type": "stream",
     "text": [
      "dict_keys(['name', 'age', 'year'])\n",
      "dict_values(['Alice', 21, 2])\n",
      "dict_items([('name', 'Alice'), ('age', 21), ('year', 2)])\n"
     ]
    }
   ],
   "source": [
    "print(student.keys())    # dict_keys(['name','age','year'])\n",
    "print(student.values())  # dict_values(['Alice', 21, 2])\n",
    "print(student.items())   # dict_items([('name','Alice'), ('age',21), ('year',2)])"
   ]
  },
  {
   "cell_type": "markdown",
   "id": "f49b7423",
   "metadata": {},
   "source": [
    "#### 2.3 Missing Key\n",
    "\n",
    "If the key you try to access does not exist in dictionary, an error will be raised.\n"
   ]
  },
  {
   "cell_type": "code",
   "execution_count": null,
   "id": "a21cc49a",
   "metadata": {},
   "outputs": [],
   "source": [
    "# print(student[\"major\"])      # Will raise KeyError"
   ]
  },
  {
   "cell_type": "markdown",
   "id": "c1b387ff",
   "metadata": {},
   "source": [
    "Bonus: `get()` method for `dict` provides a robust way of accessing key:\n",
    "\n",
    "syntax\n",
    "```python\n",
    "dictionary.get(<key to access>, <default value if key not exist>)\n",
    "```"
   ]
  },
  {
   "cell_type": "code",
   "execution_count": 44,
   "id": "c92ba82b",
   "metadata": {},
   "outputs": [
    {
     "name": "stdout",
     "output_type": "stream",
     "text": [
      "None\n",
      "Undeclared\n",
      "{'name': 'Alice', 'age': 21, 'year': 2}\n"
     ]
    }
   ],
   "source": [
    "print(student.get(\"major\"))  # None (safe access)\n",
    "print(student.get(\"major\", \"Undeclared\"))  # default value\n",
    "\n",
    "print(student)"
   ]
  },
  {
   "cell_type": "markdown",
   "id": "32094047",
   "metadata": {},
   "source": [
    "\n",
    "\n",
    "### 3. Loops in Python\n",
    "\n",
    "#### 3.1 Why Loops?\n",
    "\n",
    "Loops are everywhere: **CPU instruction cycle** → *fetch → decode → execute → store → repeat*.\n",
    "\n",
    "<img src=\"./assets/mic.gif\" width=400 alt=\"CPU Cycle\">\n",
    "\n",
    "Loops let computers do repetitive work automatically.\n",
    "\n",
    "During lecture, while loop and for loop are introduced together.\n",
    "\n",
    "**Difference**:\n",
    "* `for` → when you know the sequence or count.\n",
    "* `while` → when you loop until a condition changes.\n",
    "\n",
    "#### 3.2 Loops using `for` loop/`while` loop and `range`\n",
    "\n",
    "- range\n",
    "- for\n",
    "- while\n",
    "- dead loop\n",
    "- Common mistakes"
   ]
  },
  {
   "cell_type": "code",
   "execution_count": null,
   "id": "b17c1a4e",
   "metadata": {},
   "outputs": [],
   "source": []
  },
  {
   "cell_type": "markdown",
   "id": "45aa8825",
   "metadata": {},
   "source": [
    "#### 3.3 Iterating Over Containers\n",
    "\n",
    "For iterable object, it is very convenient to go through the items inside of it with for loop."
   ]
  },
  {
   "cell_type": "code",
   "execution_count": null,
   "id": "ee770cc6",
   "metadata": {},
   "outputs": [],
   "source": [
    "\n",
    "nums = [10, 20, 30]\n",
    "for n in nums:\n",
    "    print(n)\n",
    "student = {\"name\":\"Alice\", \"age\":20}\n",
    "for key, value in student.items():\n",
    "    print(key, value)"
   ]
  },
  {
   "cell_type": "markdown",
   "id": "60bc9281",
   "metadata": {},
   "source": [
    "However, if you would like to modify the object in a list while looping through the list. You will still need index."
   ]
  },
  {
   "cell_type": "code",
   "execution_count": 45,
   "id": "e640cd2b",
   "metadata": {},
   "outputs": [
    {
     "name": "stdout",
     "output_type": "stream",
     "text": [
      "[10, 20, 30]\n"
     ]
    }
   ],
   "source": [
    "nums = [10, 20, 30]\n",
    "for n in nums:\n",
    "    n = 1\n",
    "print(nums)"
   ]
  },
  {
   "cell_type": "markdown",
   "id": "35c1f0f2",
   "metadata": {},
   "source": [
    "Bonus: `_` place holder\n",
    "\n",
    "If we will not use the temporary object from for loop, we can just use `_` as its name. This is something we usually see in projects."
   ]
  },
  {
   "cell_type": "code",
   "execution_count": null,
   "id": "5156cb99",
   "metadata": {},
   "outputs": [],
   "source": []
  },
  {
   "cell_type": "markdown",
   "id": "c84159b2",
   "metadata": {},
   "source": [
    "## 2. Tutorial Slides"
   ]
  },
  {
   "cell_type": "code",
   "execution_count": null,
   "id": "5e43b934",
   "metadata": {},
   "outputs": [],
   "source": []
  },
  {
   "cell_type": "markdown",
   "id": "dfa5afa4",
   "metadata": {},
   "source": [
    "## 3. Tutorial Exercises\n",
    "\n",
    "Tutorial worksheet question walk through:\n",
    "\n",
    "### Movie Ticket Price Calculator\n",
    "\n",
    "A movie theater has the following ticket pricing structure:\n",
    "\n",
    "- Child (age 12 and under): $8\n",
    "- Adult (age 13 to 64): $12\n",
    "- Senior (age 65 and older): $10\n",
    "\n",
    "Write a program that takes a person's age as an integer input and prints their ticket priceas an integer. \n",
    "\n",
    "*Hint: Be precise with your comparison operators (<, <=, >, >=) to correctly define the age ranges*\n"
   ]
  },
  {
   "cell_type": "code",
   "execution_count": null,
   "id": "420b9a65",
   "metadata": {},
   "outputs": [
    {
     "name": "stdout",
     "output_type": "stream",
     "text": [
      "1.5\n"
     ]
    }
   ],
   "source": []
  },
  {
   "cell_type": "markdown",
   "id": "065f7a26",
   "metadata": {},
   "source": [
    "### Simple Grader\n",
    "\n",
    "Write a program that converts a numerical score into a letter grade accordingtothefollowing scale:\n",
    "\n",
    "- Score 90 or above: \"A\" \n",
    "- Score 80 to 89: \"B\" \n",
    "- Score 70 to 79: \"C\" \n",
    "- Score 60 to 69: \"D\" \n",
    "- Score below 60: \"F\" \n",
    "\n",
    "The program should take a single integer score as input and print the correspondingletter grade. You can assume the input is always a valid integer. \n",
    "\n",
    "*Hint: Use an if-elif-else chain to handle the different grade brackets.*\n"
   ]
  },
  {
   "cell_type": "code",
   "execution_count": null,
   "id": "6a844425",
   "metadata": {},
   "outputs": [
    {
     "name": "stdout",
     "output_type": "stream",
     "text": [
      "False\n"
     ]
    }
   ],
   "source": []
  },
  {
   "cell_type": "markdown",
   "id": "e9c6a02b",
   "metadata": {},
   "source": [
    "### Leap Year Checker\n",
    "Write a program that takes an integer year as input and prints \"Leap year\" if it is aleapyear, and \"Not a leap year\" otherwise. \n",
    "\n",
    "A year is a leap year if it meets the following criteria:\n",
    "- It is divisible by 4, unless... \n",
    "- It is also divisible by 100, unless... \n",
    "- It is also divisible by 400. This means 2000 and 2400 are leap years, but 1800, 1900, and 2100 are not. \n",
    "\n",
    "*Hint: The modulo operator (%) is essential for checking divisibility*"
   ]
  },
  {
   "cell_type": "code",
   "execution_count": null,
   "id": "67bbc858",
   "metadata": {},
   "outputs": [
    {
     "name": "stdout",
     "output_type": "stream",
     "text": [
      "2\n"
     ]
    }
   ],
   "source": []
  },
  {
   "cell_type": "markdown",
   "id": "98b7300a",
   "metadata": {},
   "source": [
    "Feel free to raise questions regarding the tutorial exercises!"
   ]
  },
  {
   "cell_type": "markdown",
   "id": "058bbae8",
   "metadata": {},
   "source": [
    "## Bonus Section 1: Python list and dictionary comprehension\n",
    "\n",
    "There is an elegent way in python to generate list or dictionary in one line of special syntax.\n",
    "\n",
    "\\[Demo\\]"
   ]
  },
  {
   "cell_type": "code",
   "execution_count": null,
   "id": "8de7b5d1",
   "metadata": {},
   "outputs": [],
   "source": []
  },
  {
   "cell_type": "markdown",
   "id": "b79f8d28",
   "metadata": {},
   "source": [
    "## Bonus Section 2: How is dictionary implemented?\n",
    "\n",
    "**\\[The logic behind `dict` and computation complexity is optional for this course, but it should be very helpful for your CS journey\\]**\n",
    "\n",
    "Query (find) element from key-value pair stored in list. How would you implement this?"
   ]
  },
  {
   "cell_type": "code",
   "execution_count": 14,
   "id": "891bc444",
   "metadata": {},
   "outputs": [],
   "source": [
    "HKU_Buildings = [(\"HW\", \"Hawking Wong Building\"),\n",
    "                 (\"MB\",\"Main Building\"),\n",
    "                 (\"LE\",\"Library Extension\"),\n",
    "                 (\"RHT\",\"Rayson Huang Theatre\"),\n",
    "                 (\"MWT\",\"Meng Wah Complex Theatre\"),\n",
    "                 (\"CYPP\", \"Chong Yuet Ming Physics Building\")\n",
    "                ]\n",
    "\n",
    "key = \"HW\"\n",
    "key = \"CYPP\""
   ]
  },
  {
   "cell_type": "markdown",
   "id": "77295764",
   "metadata": {},
   "source": [
    "*For the following discussion, we can assume the list access (by subscript operator []) takes constant time and basic arithmetics takes constant time (eg. %)*\n",
    "\n",
    "Implementing by iterating over all elements, in the worst case, takes n queries (n is the length of the table). The query counts is proportional to input size. Computer scientists would describe such algorithm $O(N)$. Such searching algorithm is called linear search.\n",
    "\n",
    "Although computer could perform such query very quickly, it could still be quite time consuming to search for something in a very large table. E.g, all the English/Chinese word in a dictionary. Or determine your name by searching your HKID.\n",
    "\n",
    "The `dict` is implemented with a mapping $f$, called hash function, such that:\n",
    "\n",
    "$$f: \\text{Python Hashable Object} \\rightarrow \\mathbb{N}$$\n",
    "\n",
    "For example, I can define a mapping like this (the actual implementation will be much more complicated):\n",
    "\n",
    "$$\n",
    "f(x) = \\begin{cases}\n",
    "0, x = \\text{\"HW\"} \\\\\n",
    "1, x = \\text{\"MB\"} \\\\\n",
    "2, x = \\text{\"LE\"} \\\\\n",
    "3, x = \\text{\"RHT\"} \\\\\n",
    "4, x = \\text{\"MWT\"} \\\\\n",
    "5, x = \\text{\"CYPP\"} \\\\\n",
    "\\end{cases}\n",
    "$$\n",
    "\n",
    "The calculation of this function will be of constant complexity, meaning calculation takes constant time regardless of number of inputs.\n",
    "\n",
    "During query time, if we input \"HW\", the function produces 0, which will denote the location of our key-value pair in the memory.\n",
    "\n",
    "For our case, the desired value would just be `HKU_Buildings[f(\"HW\")][1]`"
   ]
  },
  {
   "cell_type": "code",
   "execution_count": 36,
   "id": "8f7cf82e",
   "metadata": {},
   "outputs": [
    {
     "name": "stdout",
     "output_type": "stream",
     "text": [
      "Hawking Wong Building\n"
     ]
    }
   ],
   "source": [
    "# Our hash function\n",
    "def mapping(abbr:str) -> int:\n",
    "    return sum(map(ord, abbr)) % 11 # adding up ascii value of each character and take remainder divided by 11\n",
    "\n",
    "# initialize table\n",
    "HKU_Buildings_Mapping = [None] * 11 # empty list with 11 slots\n",
    "\n",
    "# creare entries in our dictionary\n",
    "for (key, value) in HKU_Buildings:\n",
    "    hash_for_key = mapping(key)\n",
    "    HKU_Buildings_Mapping[hash_for_key] = value\n",
    "\n",
    "\n",
    "# Query\n",
    "building_key = \"HW\"\n",
    "hash_for_key = mapping(building_key)\n",
    "print(HKU_Buildings_Mapping[hash_for_key])\n"
   ]
  },
  {
   "cell_type": "markdown",
   "id": "b8c4b55a",
   "metadata": {},
   "source": [
    "$\\text{complexity for querying} = \\text{hash function calculation complexity} + \\text{subscript operation complexity}$ \n",
    "\n",
    "In our case, mapping function takes constant time and list access takes constant time. Overall, the query complexity will be irrelavent with table size. Such query is of $O(1)$ complexity. It can be shown for large enough initial table and suitable hash function, insertion and querying in a hash table takes constant time. (What you will learn if you take COMP2119: Data Structure and Algorithm)\n",
    "\n",
    "In python, there is a built-in function called `hash`, which will map any hashable python object into **integer value**, which resembles what we do in `mapping` function. With objects mapped to integers, we can easily locate value by accessing the memory with hash value.\n",
    "\n",
    "But wait, what is **hashable**?"
   ]
  },
  {
   "cell_type": "code",
   "execution_count": 37,
   "id": "a2e3ec94",
   "metadata": {},
   "outputs": [
    {
     "data": {
      "text/plain": [
       "1"
      ]
     },
     "execution_count": 37,
     "metadata": {},
     "output_type": "execute_result"
    }
   ],
   "source": [
    "hash(1)"
   ]
  },
  {
   "cell_type": "code",
   "execution_count": 38,
   "id": "24336238",
   "metadata": {},
   "outputs": [
    {
     "name": "stdout",
     "output_type": "stream",
     "text": [
      "529344067295497451\n"
     ]
    }
   ],
   "source": [
    "print(hash((1,2,3)))"
   ]
  },
  {
   "cell_type": "code",
   "execution_count": 39,
   "id": "3f37dd87",
   "metadata": {},
   "outputs": [
    {
     "name": "stdout",
     "output_type": "stream",
     "text": [
      "4043481353978970886\n"
     ]
    }
   ],
   "source": [
    "print(hash(\"HW\"))"
   ]
  },
  {
   "cell_type": "code",
   "execution_count": 41,
   "id": "fa735d7d",
   "metadata": {},
   "outputs": [],
   "source": [
    "# print(hash([1,2,3])) # This will cause error"
   ]
  },
  {
   "cell_type": "markdown",
   "id": "d39bda3b",
   "metadata": {},
   "source": [
    "When we try to hash a list, an error is raised:\n",
    "\n",
    "`TypeError: unhashable type: 'list'`\n",
    "\n",
    "---\n",
    "\n",
    "The idea of hashable is correlated with the concept **mutable**. Hash functions create a unique and constant integer identifier for immutable object. If a object is mutable, its hash value changes when its content gets mutated. Immutable objects are almost always hashable.\n",
    "\n",
    "Can you understand why dictionary needs immutable object as keys?"
   ]
  }
 ],
 "metadata": {
  "kernelspec": {
   "display_name": "Python 3",
   "language": "python",
   "name": "python3"
  },
  "language_info": {
   "codemirror_mode": {
    "name": "ipython",
    "version": 3
   },
   "file_extension": ".py",
   "mimetype": "text/x-python",
   "name": "python",
   "nbconvert_exporter": "python",
   "pygments_lexer": "ipython3",
   "version": "3.10.11"
  }
 },
 "nbformat": 4,
 "nbformat_minor": 5
}
