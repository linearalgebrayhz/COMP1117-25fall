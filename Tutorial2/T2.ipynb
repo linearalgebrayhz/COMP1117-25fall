{
 "cells": [
  {
   "cell_type": "markdown",
   "id": "cb8616ab",
   "metadata": {},
   "source": [
    "# COMP1117: Computer programming - Tutorial 2\n",
    "\n",
    "2025-9-23\n",
    "\n",
    "Welcome to the tutorial session for COMP1117 1B!\n",
    "\n",
    "---\n",
    "\n",
    "**STA Info**\n",
    "\n",
    "Yang Haozhe (Thomas): Fourth-year Computer Science Student (BEng(CompSc))\n",
    "\n",
    "Contacts: \n",
    "\n",
    "- Email: yhz2004@connect.hku.hk\n",
    "- WeChat: Thomas316316316316\n",
    "- WhatsApp: +852 56039533\n",
    "\n",
    "<img src=\"./assets/WeChat.jpg\" alt=\"WeChat QR Code\" height=\"400\"/>\n",
    "<img src=\"./assets/WhatsApp.jpg\" alt=\"WhatsApp QR Code\" height=\"400\"/>\n",
    "\n",
    "Moodle tutorial groups have been created for this tutorial session. Stay tuned for important announcements from Moodle!"
   ]
  },
  {
   "cell_type": "markdown",
   "id": "f50b39d8",
   "metadata": {},
   "source": [
    "## Announcements\n",
    "\n",
    "- Tutorial Exercise 2 released yesterday and is due next Friday night\n",
    "- Assignment 1 due 23:59 Oct 05, 2025\n",
    "- **Stay Safe** and avoid out door activity while Typhoon Ragasa is approaching!"
   ]
  },
  {
   "cell_type": "markdown",
   "id": "f5f927ff",
   "metadata": {},
   "source": [
    "## 1. Lecture Recap\n",
    "\n",
    "Continuing with discussion last week and diving deeper.\n",
    "\n",
    "### 1.1 Basic data types in Python\n",
    "\n",
    "Last week we gave some examples for `int` and `float`. Today we will focus on `bool`.\n",
    "\n",
    "#### What is a Boolean?\n",
    "\n",
    "* A Boolean is a data type with only **two possible values**: `True` or `False`.\n",
    "* In Python:"
   ]
  },
  {
   "cell_type": "code",
   "execution_count": null,
   "id": "8168bf70",
   "metadata": {},
   "outputs": [],
   "source": [
    "x = True\n",
    "y = False\n",
    "print(type(x))   # <class 'bool'>"
   ]
  },
  {
   "cell_type": "markdown",
   "id": "2108528e",
   "metadata": {},
   "source": [
    "### Origin of Boolean\n",
    "\n",
    "* Named after **George Boole**, a mathematician who formalized logic (Boolean algebra, *covered in COMP2121 Discrete Mathematics*).\n",
    "* In Python, `bool` **inherits** properties from `int`:"
   ]
  },
  {
   "cell_type": "code",
   "execution_count": null,
   "id": "d64c005e",
   "metadata": {},
   "outputs": [],
   "source": [
    "print(True == 1)   \n",
    "print(False == 0)  \n",
    "print(isinstance(True, int))  \n",
    "print(True + True)"
   ]
  },
  {
   "cell_type": "markdown",
   "id": "ec0cf757",
   "metadata": {},
   "source": [
    "#### Boolean Expressions\n",
    "\n",
    "Booleans usually come from **comparisons** or **Membership check** (like keyword `in`):\n",
    "\n",
    "```python\n",
    "print(5 > 3)    # True\n",
    "print(10 == 2)  # False\n",
    "print(\"a\" in \"cat\")  # True\n",
    "```\n",
    "\n",
    "---\n",
    "\n",
    "#### Truthy and Falsy Values\n",
    "\n",
    "In Python, not just `True` and `False` evaluate to boolean. Many objects have a **truth value**:\n",
    "\n",
    "* Falsy: `0`, `0.0`, `''` (empty string), `[]` (empty list), `{}` (empty dict), `None`, `False`\n",
    "> \n",
    "> Side note for `None`: it's a special value in python meaning **nothing**.\n",
    "\n",
    "* Everything else is Truthy"
   ]
  },
  {
   "cell_type": "code",
   "execution_count": null,
   "id": "10bfa82c",
   "metadata": {},
   "outputs": [],
   "source": [
    "print(bool(0))      # False\n",
    "print(bool(\"\"))     # False\n",
    "print(bool([1,2]))  # True"
   ]
  },
  {
   "cell_type": "markdown",
   "id": "e3fd04b7",
   "metadata": {},
   "source": [
    "#### Boolean Operators\n",
    "\n",
    "Python has three logical operators:\n",
    "\n",
    "```python\n",
    "a, b = True, False\n",
    "print(a and b)   # False\n",
    "print(a or b)    # True\n",
    "print(not a)     # False\n",
    "```\n",
    "\n",
    "Precedence: `not` > `and` > `or`. Same as logical precedence in mathematics.\n",
    "\n",
    "`and` / `or` use **short-circuit evaluation**:"
   ]
  },
  {
   "cell_type": "code",
   "execution_count": null,
   "id": "d4754b39",
   "metadata": {},
   "outputs": [],
   "source": [
    "print(0 and 100/0)  # 0 (second part not evaluated)\n",
    "print(1 or 100/0)   # 1 (second part not evaluated)"
   ]
  },
  {
   "cell_type": "markdown",
   "id": "8627af55",
   "metadata": {},
   "source": [
    "Additional Boolean function:\n",
    "\n",
    "- `all()` evaluates to `False` if any of the values in the input iterable is Flasy value\n",
    "\n",
    "- `any()` evaluates to `True` if any of the values in the input iterable is Truthy value"
   ]
  },
  {
   "cell_type": "code",
   "execution_count": null,
   "id": "3cc87145",
   "metadata": {},
   "outputs": [],
   "source": [
    "all([1, 1, 1, []])"
   ]
  },
  {
   "cell_type": "code",
   "execution_count": null,
   "id": "1b5b75e6",
   "metadata": {},
   "outputs": [],
   "source": [
    "any([0, \"COMP1117\", 0, 0])"
   ]
  },
  {
   "cell_type": "markdown",
   "id": "1bfbf469",
   "metadata": {},
   "source": [
    "#### Boolean in Control Flow\n",
    "\n",
    "Most `if` statements depend on booleans:\n",
    "\n",
    "```python\n",
    "x = 5\n",
    "if x > 0:\n",
    "    print(\"Positive\")\n",
    "else:\n",
    "    print(\"Non-positive\")\n",
    "```\n",
    "\n",
    "---\n",
    "\n",
    "**key takeaway**:\n",
    "\n",
    "* Boolean is not just `True/False` but a **general truth system**.\n",
    "* It connects comparisons, control flow, and logic together.\n"
   ]
  },
  {
   "cell_type": "markdown",
   "id": "c6ceb7e9",
   "metadata": {},
   "source": [
    "### 1.2 Collections\n",
    "\n",
    "We covered a little about `list`, `tuple`, `set` and `dict` last week. Today we will just focus on list which is the most commonly used (or perhaps as common as dictionary) data struture in Python.\n",
    "\n",
    "List: Ordered, mutable, allows duplicates\n",
    "\n",
    "1. List Creation"
   ]
  },
  {
   "cell_type": "code",
   "execution_count": null,
   "id": "de0ea86e",
   "metadata": {},
   "outputs": [],
   "source": [
    "# create list with []\n",
    "list1 = [1,2,3,4,5]\n",
    "\n",
    "# create list from other *iterable* objects\n",
    "list2 = list((1,2,3,4,5))\n",
    "\n",
    "list3 = list(\"12345\")\n",
    "\n",
    "# list4 = list(12345)"
   ]
  },
  {
   "cell_type": "markdown",
   "id": "9363e045",
   "metadata": {},
   "source": [
    "2. access list element, membership test and concatenation\n",
    "\n",
    "`[]` following a collection is called *subscript operator*, providing a direct and concise way to access individual elements within a list or other collection types in many programming languages."
   ]
  },
  {
   "cell_type": "code",
   "execution_count": null,
   "id": "57cab313",
   "metadata": {},
   "outputs": [],
   "source": [
    "first_elements = list1[0] # zero-based index\n",
    "\n",
    "print(2 in list1)\n",
    "\n",
    "print(list1 * 3)"
   ]
  },
  {
   "cell_type": "markdown",
   "id": "4ca69c73",
   "metadata": {},
   "source": [
    "One powerful usage of `[]` is list **slicing**. We shall go back to this concept once we learn more about iteration.\n",
    "\n",
    "```python\n",
    "sliced_list = original_list[start:end:step]\n",
    "```\n",
    "\n",
    "which slices the original list from index `start` to `end-1` considering steps."
   ]
  },
  {
   "cell_type": "code",
   "execution_count": null,
   "id": "13acab8a",
   "metadata": {},
   "outputs": [],
   "source": [
    "first_three_elements = list1[0:3]\n",
    "print(first_three_elements)"
   ]
  },
  {
   "cell_type": "markdown",
   "id": "fe7e0316",
   "metadata": {},
   "source": [
    "3. Common List Methods (or functions)\n",
    "\n",
    "**These methods are important!!**\n",
    "\n",
    "Inplace:\n",
    "- `append`\n",
    "- `extend`\n",
    "- `pop`\n",
    "- `insert`\n",
    "- `remove`\n",
    "- `sort`\n",
    "- `reverse`\n",
    "\n",
    "Non-inplace:\n",
    "- `sorted`\n",
    "- `reversed`"
   ]
  },
  {
   "cell_type": "code",
   "execution_count": null,
   "id": "40088b8e",
   "metadata": {},
   "outputs": [],
   "source": [
    "orginal_list = [1, 1, 4, 5, 1, 4]\n",
    "print(id(orginal_list))\n"
   ]
  },
  {
   "cell_type": "markdown",
   "id": "d5b65b2b",
   "metadata": {},
   "source": [
    "Try to play with these methods in using your own examples for better understanding!"
   ]
  },
  {
   "cell_type": "markdown",
   "id": "26de27b6",
   "metadata": {},
   "source": [
    "### 1.6 String\n",
    "\n",
    "Strings are sequences of characters. String is interable but immutable.\n",
    "\n",
    "Double Quote (`\"`) and single quote (`'`) are equivalent in representing strings. `\"\"\"` is used for string with multiple lines or DocString (see Bonus Section).\n",
    "\n",
    "Python has no `char` data type. But commonly for character manipulation senarios, Python programmers use single quote for characters and double quote for strings (with multiple characters). (A Bonus Section for char is included at the end of tutorial notes)."
   ]
  },
  {
   "cell_type": "code",
   "execution_count": null,
   "id": "7cb2115f",
   "metadata": {},
   "outputs": [],
   "source": [
    "string = \"Life is short I use Python\"\n",
    "list_of_chars = list(string)\n",
    "print(list_of_chars)"
   ]
  },
  {
   "cell_type": "code",
   "execution_count": null,
   "id": "aa89ae03",
   "metadata": {},
   "outputs": [],
   "source": [
    "print(f\"the second character in string is: {string[1]}\")\n",
    "\n",
    "print(f\"Slicing string using subscript operator [], string[20:] = {string[20:]}\")"
   ]
  },
  {
   "cell_type": "markdown",
   "id": "a4ddf469",
   "metadata": {},
   "source": [
    "\n",
    "### 1.7 if else statement\n",
    "\n",
    "Control flow in Python\n",
    "\n",
    "```python\n",
    "x = 10\n",
    "if x > 0:\n",
    "    print(\"positive\")\n",
    "elif x == 0:\n",
    "    print(\"zero\")\n",
    "else:\n",
    "    print(\"negative\")\n",
    "```\n",
    "\n",
    "**Common Mistakes in Control Flow**\n",
    "\n",
    "1. Indentation Matters in Python\n",
    "\n",
    "Unlike many other languages (C, Java, etc.), Python uses **indentation** (spaces or tabs) to define code blocks.\n",
    "\n",
    "Wrong (no indentation):\n",
    "\n",
    "```python\n",
    "x = 5\n",
    "if x > 0:\n",
    "print(\"Positive\")   # IndentationError\n",
    "```\n",
    "\n",
    "Correct:\n",
    "\n",
    "```python\n",
    "x = 5\n",
    "if x > 0:\n",
    "    print(\"Positive\")\n",
    "```\n",
    "\n",
    "**Tip**: Stick to **4 spaces Tab** (don’t mix tabs and spaces).\n",
    "\n",
    "---\n",
    "\n",
    "2. Completeness in Logic\n",
    "\n",
    "Sometimes beginners write code that doesn’t cover **all cases**.\n",
    "\n",
    "Incomplete:\n",
    "\n",
    "```python\n",
    "x = 0\n",
    "if x > 0:\n",
    "    print(\"Positive\")\n",
    "elif x < 0:\n",
    "    print(\"Negative\")\n",
    "# Missing else → what if x == 0?\n",
    "```\n",
    "\n",
    "Complete:\n",
    "\n",
    "```python\n",
    "x = 0\n",
    "if x > 0:\n",
    "    print(\"Positive\")\n",
    "elif x < 0:\n",
    "    print(\"Negative\")\n",
    "else:\n",
    "    print(\"Zero\")\n",
    "```\n",
    "\n",
    "Inexhaustive logic can be hard to debug."
   ]
  },
  {
   "cell_type": "code",
   "execution_count": null,
   "id": "405e785c",
   "metadata": {},
   "outputs": [],
   "source": [
    "def comparison(a, b):\n",
    "    if a > b:\n",
    "        return 1\n",
    "    elif a < b:\n",
    "        return -1\n",
    "    \n",
    "print(comparison(1,1))"
   ]
  },
  {
   "cell_type": "markdown",
   "id": "e1319409",
   "metadata": {},
   "source": [
    "**Tip**:\n",
    "\n",
    "* Always check: *Have I covered all possible cases?*\n",
    "* Sometimes `else` is optional, but it’s a good habit to include when conditions are meant to be exhaustive.\n",
    "\n",
    "\n",
    "Bonus: python if else shorthand\n",
    "(Something you will frequently see in projects)\n",
    "\n",
    "In a deep learning project using [PyTorch](https://en.wikipedia.org/wiki/PyTorch), you might see:\n",
    "```python\n",
    "device = \"cuda\" if torch.cuda.is_available() else \"cpu\"\n",
    "```\n",
    "\n",
    "Syntax template:\n",
    "```python\n",
    "<logic true result> if <logic predicate> else <logic false result>\n",
    "```"
   ]
  },
  {
   "cell_type": "code",
   "execution_count": null,
   "id": "a27d572c",
   "metadata": {},
   "outputs": [],
   "source": [
    "num1 = 1\n",
    "num2 = 2\n",
    "larger_num:int\n",
    "if num1 > num2:\n",
    "    larger_num = num1\n",
    "else:\n",
    "    larger_num = num2\n",
    "print(larger_num)"
   ]
  },
  {
   "cell_type": "code",
   "execution_count": null,
   "id": "0606e35b",
   "metadata": {},
   "outputs": [],
   "source": [
    "larger_num = num1 if num1 > num2 else num2\n",
    "print(larger_num)"
   ]
  },
  {
   "cell_type": "markdown",
   "id": "c84159b2",
   "metadata": {},
   "source": [
    "## 2. Tutorial Slides"
   ]
  },
  {
   "cell_type": "markdown",
   "id": "dfa5afa4",
   "metadata": {},
   "source": [
    "## 3. Tutorial Exercises\n",
    "\n",
    "Tutorial worksheet question walk through:\n",
    "\n",
    "### 2.1 calculate the average\n",
    "\n",
    "Write a program to read two integers. Calculate the average. Then, print the result.\n"
   ]
  },
  {
   "cell_type": "code",
   "execution_count": null,
   "id": "420b9a65",
   "metadata": {},
   "outputs": [],
   "source": []
  },
  {
   "cell_type": "markdown",
   "id": "22c62e0d",
   "metadata": {},
   "source": [
    "Extended thinking: how to calculate the average of numbers in a list? (Hint: [`sum`](https://docs.python.org/3/library/functions.html#sum))"
   ]
  },
  {
   "cell_type": "code",
   "execution_count": null,
   "id": "1a03fde9",
   "metadata": {},
   "outputs": [],
   "source": [
    "a = [1, 2, 3, 4, 5]"
   ]
  },
  {
   "cell_type": "markdown",
   "id": "065f7a26",
   "metadata": {},
   "source": [
    "### 2.2 Element in a set\n",
    "\n",
    "Write a program to store the following five characters in a set:\n",
    "a, e, i, o, u.\n",
    "\n",
    "Ask the user to input a character and report whether it is in this set or not.\n"
   ]
  },
  {
   "cell_type": "code",
   "execution_count": null,
   "id": "6a844425",
   "metadata": {},
   "outputs": [],
   "source": []
  },
  {
   "cell_type": "markdown",
   "id": "cb816cb7",
   "metadata": {},
   "source": [
    "Extended thinking: what if the user input is in upper case letter? (Hint: [`lower`](https://docs.python.org/3/library/stdtypes.html#str.lower))"
   ]
  },
  {
   "cell_type": "code",
   "execution_count": null,
   "id": "adde104a",
   "metadata": {},
   "outputs": [],
   "source": []
  },
  {
   "cell_type": "markdown",
   "id": "e9c6a02b",
   "metadata": {},
   "source": [
    "### 2.3 Dictionary\n",
    "\n",
    "Write a program to store the following data in a dictionary:\n",
    "\n",
    "`mydict = {'zero':0, 'un':1, 'deux':2, 'trois':3, 'quatre':4, 'cinq':5, 'six':6, 'sept':7, 'huit':8, 'neuf':9}`\n",
    "\n",
    "Ask the user to input two numbers in French (the keys in `mydict`) and then output the sum of these two numbers."
   ]
  },
  {
   "cell_type": "code",
   "execution_count": null,
   "id": "67bbc858",
   "metadata": {},
   "outputs": [],
   "source": []
  },
  {
   "cell_type": "markdown",
   "id": "98b7300a",
   "metadata": {},
   "source": [
    "Feel free to raise questions regarding the tutorial exercises!"
   ]
  },
  {
   "cell_type": "markdown",
   "id": "058bbae8",
   "metadata": {},
   "source": [
    "## Bonus Section 1: ASCII Characters\n",
    "\n",
    "### What is ASCII?\n",
    "\n",
    "* **ASCII** stands for **American Standard Code for Information Interchange**.\n",
    "* It was developed in the 1960s to standardize how computers represent text.\n",
    "* Each character (like `A`, `1`, `?`, or space) is mapped to a unique number (0–127). $2^7$\n",
    "\n",
    "Example:\n",
    "\n",
    "* `'A' → 65`\n",
    "* `'a' → 97`\n",
    "* `'0' → 48`\n",
    "\n",
    "ASCII influenced many later standards, such as **Unicode**, which supports characters for all world languages.\n",
    "\n",
    "---\n",
    "\n",
    "### ASCII in Python\n",
    "\n",
    "Python provides two handy functions: `ord` and `chr`."
   ]
  },
  {
   "cell_type": "code",
   "execution_count": null,
   "id": "733dbc66",
   "metadata": {},
   "outputs": [],
   "source": [
    "print(ord('A'))   # 65  (character → number)\n",
    "print(ord('a'))   # 97\n",
    "print(chr(66))    # 'B' (number → character)\n",
    "print(chr(8364))  # '€' (works for Unicode, too)"
   ]
  },
  {
   "cell_type": "markdown",
   "id": "960c27aa",
   "metadata": {},
   "source": [
    "\n",
    "`ord()` = **ordinal value** (char → int)\n",
    "`chr()` = **character** (int → char)\n",
    "\n",
    "---\n",
    "\n",
    "### Why it matters\n",
    "\n",
    "* Under the hood, all strings are stored as sequences of numbers.\n",
    "* Helps you understand encoding/decoding, file formats, and even cryptography basics later.\n",
    "\n",
    "Here is a small demo of printing (some of) the ascii characters."
   ]
  },
  {
   "cell_type": "code",
   "execution_count": null,
   "id": "094b2f33",
   "metadata": {},
   "outputs": [],
   "source": [
    "# For loop is not within first assignment range.\n",
    "print(\"ASCII Table:\")\n",
    "print(\"Char |  Dec | Hex\")\n",
    "print(\"-----|------|----\")\n",
    "for i in range(65,128):\n",
    "    char = chr(i)\n",
    "    dec = i\n",
    "    hex_val = hex(i)\n",
    "    print(f\"{char:^4} | {dec:^4} | {hex_val:^4}\")"
   ]
  },
  {
   "cell_type": "markdown",
   "id": "e139b901",
   "metadata": {},
   "source": [
    "Quick Exercise: Given `ord('A') = 65` and `ord('a') = 97`. Can you perform lower case <-> upper case transform? (Take a look at the distribution of alphabetic characters in the ASCII Table)"
   ]
  },
  {
   "cell_type": "markdown",
   "id": "b79f8d28",
   "metadata": {},
   "source": [
    "## Bonus Section 2: Python comment, DocString and Type Hint\n",
    "\n",
    "**\\[type hint is completely optional for this course\\]**\n",
    "\n",
    "In Python, comments are created using the `#` symbol. Everything after `#` on that line is ignored by the interpreter."
   ]
  },
  {
   "cell_type": "code",
   "execution_count": null,
   "id": "891bc444",
   "metadata": {},
   "outputs": [],
   "source": [
    "def add(a, b):\n",
    "    # This is a add function, this line should not be printed\n",
    "    return a + b\n",
    "\n",
    "add(1, 2)"
   ]
  },
  {
   "cell_type": "markdown",
   "id": "77295764",
   "metadata": {},
   "source": [
    "It is always good practice to write descriptive comments for your logics and design so that other collaborators can understand your code easily.\n",
    "\n",
    "For longer comments or documentation, you can use triple quotes (`\"\"\"` or `'''`) to create a DocString. DocStrings are often used to describe the purpose of a function or module. Including the function arguments and return types in the DocString is a good practice. "
   ]
  },
  {
   "cell_type": "code",
   "execution_count": null,
   "id": "a3af3943",
   "metadata": {},
   "outputs": [],
   "source": [
    "def calculate_distance(city_A, city_B):\n",
    "    \"\"\" \n",
    "    This function calculates the distance between two cities.\n",
    "    \n",
    "    Args:\n",
    "        city_A (list): The first city coordinate\n",
    "        city_B (list): The second city coordinate\n",
    "\n",
    "    Returns:\n",
    "        float: the distance between City A and City B.\n",
    "    \"\"\"\n",
    "    return ((city_A[0]-city_B[0])**2 + (city_A[1] - city_B[2])**2)**(1/2)"
   ]
  },
  {
   "cell_type": "markdown",
   "id": "2d1c8a8d",
   "metadata": {},
   "source": [
    "You do not have to write docstring by hand. The docstring can be generated automatically by some IDEs with proper extensions."
   ]
  },
  {
   "cell_type": "markdown",
   "id": "c4c36523",
   "metadata": {},
   "source": [
    "Python does not require type declarations unlike some other programming languages such as C++ and Java.\n",
    "\n",
    "---\n",
    "\n",
    "In python:\n",
    "```python\n",
    "GLOBAL_CONST = 1\n",
    "\n",
    "def add(a, b):\n",
    "    return a + b\n",
    "```\n",
    "\n",
    "---\n",
    "\n",
    "In C++:\n",
    "```cpp\n",
    "const int GLOBAL_CONST = 1\n",
    "\n",
    "float add(float a, float b) {\n",
    "    return a + b;\n",
    "}\n",
    "```\n",
    "\n",
    "Type hints are a way to indicate the expected data types variable assignments, function arguments and return values. They are not enforced at runtime but can be used by *static type checkers* and IDEs for better code analysis."
   ]
  },
  {
   "cell_type": "code",
   "execution_count": null,
   "id": "a87a72fe",
   "metadata": {},
   "outputs": [],
   "source": [
    "def add(a:int, b:int) -> int:\n",
    "    return a + b\n",
    "\n",
    "add(1.0, 2.0)"
   ]
  },
  {
   "cell_type": "markdown",
   "id": "04aa0186",
   "metadata": {},
   "source": [
    "At this stage, you are not required to write any type hint (as sometimes it can be troublesome, eg. what if I would like my data type to be `int` or `float`). Nevertheless, the purpose of this section is to get you familiarize with this special syntax in Python so that you will not get puzzled when you see them in large projects."
   ]
  },
  {
   "cell_type": "markdown",
   "id": "cd698557",
   "metadata": {},
   "source": [
    "Here is a piece of code from python builtin `list` (incomplete, modified for clarity). Can you see why different inplace functions have different outputs?\n",
    "\n",
    "`_T` is a template datatype. When we initialize an integer list,  `_T` is simply `int`.\n",
    "\n",
    "```python\n",
    "class list(MutableSequence[_T]):\n",
    "    <...>\n",
    "    def append(self, object: _T, /) -> None: ...\n",
    "    def extend(self, iterable: Iterable[_T], /) -> None: ...\n",
    "    def pop(self, index: SupportsIndex = -1, /) -> _T: ...\n",
    "    def insert(self, index: SupportsIndex, object: _T, /) -> None: ...\n",
    "    def remove(self, value: _T, /) -> None: ...\n",
    "    <...>\n",
    "```"
   ]
  }
 ],
 "metadata": {
  "kernelspec": {
   "display_name": "Python 3",
   "language": "python",
   "name": "python3"
  },
  "language_info": {
   "codemirror_mode": {
    "name": "ipython",
    "version": 3
   },
   "file_extension": ".py",
   "mimetype": "text/x-python",
   "name": "python",
   "nbconvert_exporter": "python",
   "pygments_lexer": "ipython3",
   "version": "3.10.11"
  }
 },
 "nbformat": 4,
 "nbformat_minor": 5
}
